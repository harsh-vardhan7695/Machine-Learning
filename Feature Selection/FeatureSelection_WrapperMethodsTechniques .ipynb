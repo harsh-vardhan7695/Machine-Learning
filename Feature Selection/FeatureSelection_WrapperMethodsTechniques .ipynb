{
 "cells": [
  {
   "cell_type": "code",
   "execution_count": 2,
   "id": "149edb76",
   "metadata": {},
   "outputs": [],
   "source": [
    "import numpy as np\n",
    "import pandas as pd\n",
    "from sklearn.datasets import load_iris\n",
    "from sklearn.linear_model import LogisticRegression,LinearRegression\n",
    "from sklearn.model_selection import cross_val_score"
   ]
  },
  {
   "cell_type": "code",
   "execution_count": 3,
   "id": "475ed8c6",
   "metadata": {},
   "outputs": [
    {
     "data": {
      "text/html": [
       "<div>\n",
       "<style scoped>\n",
       "    .dataframe tbody tr th:only-of-type {\n",
       "        vertical-align: middle;\n",
       "    }\n",
       "\n",
       "    .dataframe tbody tr th {\n",
       "        vertical-align: top;\n",
       "    }\n",
       "\n",
       "    .dataframe thead th {\n",
       "        text-align: right;\n",
       "    }\n",
       "</style>\n",
       "<table border=\"1\" class=\"dataframe\">\n",
       "  <thead>\n",
       "    <tr style=\"text-align: right;\">\n",
       "      <th></th>\n",
       "      <th>sepal_length</th>\n",
       "      <th>sepal_width</th>\n",
       "      <th>petal_length</th>\n",
       "      <th>petal_width</th>\n",
       "      <th>species</th>\n",
       "    </tr>\n",
       "  </thead>\n",
       "  <tbody>\n",
       "    <tr>\n",
       "      <th>0</th>\n",
       "      <td>5.1</td>\n",
       "      <td>3.5</td>\n",
       "      <td>1.4</td>\n",
       "      <td>0.2</td>\n",
       "      <td>setosa</td>\n",
       "    </tr>\n",
       "    <tr>\n",
       "      <th>1</th>\n",
       "      <td>4.9</td>\n",
       "      <td>3.0</td>\n",
       "      <td>1.4</td>\n",
       "      <td>0.2</td>\n",
       "      <td>setosa</td>\n",
       "    </tr>\n",
       "    <tr>\n",
       "      <th>2</th>\n",
       "      <td>4.7</td>\n",
       "      <td>3.2</td>\n",
       "      <td>1.3</td>\n",
       "      <td>0.2</td>\n",
       "      <td>setosa</td>\n",
       "    </tr>\n",
       "    <tr>\n",
       "      <th>3</th>\n",
       "      <td>4.6</td>\n",
       "      <td>3.1</td>\n",
       "      <td>1.5</td>\n",
       "      <td>0.2</td>\n",
       "      <td>setosa</td>\n",
       "    </tr>\n",
       "    <tr>\n",
       "      <th>4</th>\n",
       "      <td>5.0</td>\n",
       "      <td>3.6</td>\n",
       "      <td>1.4</td>\n",
       "      <td>0.2</td>\n",
       "      <td>setosa</td>\n",
       "    </tr>\n",
       "  </tbody>\n",
       "</table>\n",
       "</div>"
      ],
      "text/plain": [
       "   sepal_length  sepal_width  petal_length  petal_width species\n",
       "0           5.1          3.5           1.4          0.2  setosa\n",
       "1           4.9          3.0           1.4          0.2  setosa\n",
       "2           4.7          3.2           1.3          0.2  setosa\n",
       "3           4.6          3.1           1.5          0.2  setosa\n",
       "4           5.0          3.6           1.4          0.2  setosa"
      ]
     },
     "execution_count": 3,
     "metadata": {},
     "output_type": "execute_result"
    }
   ],
   "source": [
    "df = pd.read_csv('https://gist.githubusercontent.com/curran/a08a1080b88344b0c8a7/raw/0e7a9b0a5d22642a06d3d5b9bcbad9890c8ee534/iris.csv')\n",
    "df.head()\n"
   ]
  },
  {
   "cell_type": "code",
   "execution_count": 20,
   "id": "906c22e1",
   "metadata": {},
   "outputs": [
    {
     "data": {
      "text/html": [
       "<div>\n",
       "<style scoped>\n",
       "    .dataframe tbody tr th:only-of-type {\n",
       "        vertical-align: middle;\n",
       "    }\n",
       "\n",
       "    .dataframe tbody tr th {\n",
       "        vertical-align: top;\n",
       "    }\n",
       "\n",
       "    .dataframe thead th {\n",
       "        text-align: right;\n",
       "    }\n",
       "</style>\n",
       "<table border=\"1\" class=\"dataframe\">\n",
       "  <thead>\n",
       "    <tr style=\"text-align: right;\">\n",
       "      <th></th>\n",
       "      <th>sepal_length</th>\n",
       "      <th>sepal_width</th>\n",
       "      <th>petal_length</th>\n",
       "      <th>petal_width</th>\n",
       "    </tr>\n",
       "  </thead>\n",
       "  <tbody>\n",
       "    <tr>\n",
       "      <th>0</th>\n",
       "      <td>5.1</td>\n",
       "      <td>3.5</td>\n",
       "      <td>1.4</td>\n",
       "      <td>0.2</td>\n",
       "    </tr>\n",
       "    <tr>\n",
       "      <th>1</th>\n",
       "      <td>4.9</td>\n",
       "      <td>3.0</td>\n",
       "      <td>1.4</td>\n",
       "      <td>0.2</td>\n",
       "    </tr>\n",
       "    <tr>\n",
       "      <th>2</th>\n",
       "      <td>4.7</td>\n",
       "      <td>3.2</td>\n",
       "      <td>1.3</td>\n",
       "      <td>0.2</td>\n",
       "    </tr>\n",
       "    <tr>\n",
       "      <th>3</th>\n",
       "      <td>4.6</td>\n",
       "      <td>3.1</td>\n",
       "      <td>1.5</td>\n",
       "      <td>0.2</td>\n",
       "    </tr>\n",
       "    <tr>\n",
       "      <th>4</th>\n",
       "      <td>5.0</td>\n",
       "      <td>3.6</td>\n",
       "      <td>1.4</td>\n",
       "      <td>0.2</td>\n",
       "    </tr>\n",
       "  </tbody>\n",
       "</table>\n",
       "</div>"
      ],
      "text/plain": [
       "   sepal_length  sepal_width  petal_length  petal_width\n",
       "0           5.1          3.5           1.4          0.2\n",
       "1           4.9          3.0           1.4          0.2\n",
       "2           4.7          3.2           1.3          0.2\n",
       "3           4.6          3.1           1.5          0.2\n",
       "4           5.0          3.6           1.4          0.2"
      ]
     },
     "execution_count": 20,
     "metadata": {},
     "output_type": "execute_result"
    }
   ],
   "source": [
    "X=df.iloc[:,:4]\n",
    "y=df['species']\n",
    "\n",
    "X.head()"
   ]
  },
  {
   "cell_type": "code",
   "execution_count": 8,
   "id": "783ad176",
   "metadata": {
    "scrolled": true
   },
   "outputs": [
    {
     "name": "stdout",
     "output_type": "stream",
     "text": [
      "Requirement already satisfied: mlxtend in c:\\users\\lucky singh\\appdata\\local\\programs\\python\\python310\\lib\\site-packages (0.23.0)\n",
      "Requirement already satisfied: scipy>=1.2.1 in c:\\users\\lucky singh\\appdata\\local\\programs\\python\\python310\\lib\\site-packages (from mlxtend) (1.7.3)\n",
      "Requirement already satisfied: numpy>=1.16.2 in c:\\users\\lucky singh\\appdata\\local\\programs\\python\\python310\\lib\\site-packages (from mlxtend) (1.22.4)\n",
      "Requirement already satisfied: pandas>=0.24.2 in c:\\users\\lucky singh\\appdata\\local\\programs\\python\\python310\\lib\\site-packages (from mlxtend) (1.3.5)\n",
      "Requirement already satisfied: scikit-learn>=1.0.2 in c:\\users\\lucky singh\\appdata\\local\\programs\\python\\python310\\lib\\site-packages (from mlxtend) (1.3.1)\n",
      "Requirement already satisfied: matplotlib>=3.0.0 in c:\\users\\lucky singh\\appdata\\local\\programs\\python\\python310\\lib\\site-packages (from mlxtend) (3.5.1)\n",
      "Requirement already satisfied: joblib>=0.13.2 in c:\\users\\lucky singh\\appdata\\local\\programs\\python\\python310\\lib\\site-packages (from mlxtend) (1.3.2)\n",
      "Requirement already satisfied: cycler>=0.10 in c:\\users\\lucky singh\\appdata\\local\\programs\\python\\python310\\lib\\site-packages (from matplotlib>=3.0.0->mlxtend) (0.11.0)\n",
      "Requirement already satisfied: fonttools>=4.22.0 in c:\\users\\lucky singh\\appdata\\local\\programs\\python\\python310\\lib\\site-packages (from matplotlib>=3.0.0->mlxtend) (4.28.5)\n",
      "Requirement already satisfied: kiwisolver>=1.0.1 in c:\\users\\lucky singh\\appdata\\local\\programs\\python\\python310\\lib\\site-packages (from matplotlib>=3.0.0->mlxtend) (1.3.2)\n",
      "Requirement already satisfied: packaging>=20.0 in c:\\users\\lucky singh\\appdata\\local\\programs\\python\\python310\\lib\\site-packages (from matplotlib>=3.0.0->mlxtend) (21.3)\n",
      "Requirement already satisfied: pillow>=6.2.0 in c:\\users\\lucky singh\\appdata\\local\\programs\\python\\python310\\lib\\site-packages (from matplotlib>=3.0.0->mlxtend) (9.0.0)\n",
      "Requirement already satisfied: pyparsing>=2.2.1 in c:\\users\\lucky singh\\appdata\\local\\programs\\python\\python310\\lib\\site-packages (from matplotlib>=3.0.0->mlxtend) (3.0.6)\n",
      "Requirement already satisfied: python-dateutil>=2.7 in c:\\users\\lucky singh\\appdata\\local\\programs\\python\\python310\\lib\\site-packages (from matplotlib>=3.0.0->mlxtend) (2.8.2)\n",
      "Requirement already satisfied: pytz>=2017.3 in c:\\users\\lucky singh\\appdata\\local\\programs\\python\\python310\\lib\\site-packages (from pandas>=0.24.2->mlxtend) (2021.3)\n",
      "Requirement already satisfied: threadpoolctl>=2.0.0 in c:\\users\\lucky singh\\appdata\\local\\programs\\python\\python310\\lib\\site-packages (from scikit-learn>=1.0.2->mlxtend) (3.0.0)\n",
      "Requirement already satisfied: six>=1.5 in c:\\users\\lucky singh\\appdata\\local\\programs\\python\\python310\\lib\\site-packages (from python-dateutil>=2.7->matplotlib>=3.0.0->mlxtend) (1.16.0)\n",
      "Note: you may need to restart the kernel to use updated packages.\n"
     ]
    }
   ],
   "source": [
    "pip install mlxtend\n"
   ]
  },
  {
   "cell_type": "code",
   "execution_count": 25,
   "id": "4193c124",
   "metadata": {},
   "outputs": [],
   "source": [
    "from mlxtend.feature_selection import ExhaustiveFeatureSelector as EFS\n",
    "\n",
    "lr=LogisticRegression()\n",
    "sel=EFS(lr,max_features=4,scoring='accuracy',cv=5)"
   ]
  },
  {
   "cell_type": "code",
   "execution_count": 26,
   "id": "87869735",
   "metadata": {},
   "outputs": [
    {
     "name": "stderr",
     "output_type": "stream",
     "text": [
      "C:\\Users\\Lucky Singh\\AppData\\Local\\Programs\\Python\\Python310\\lib\\site-packages\\sklearn\\linear_model\\_logistic.py:814: ConvergenceWarning: lbfgs failed to converge (status=1):\n",
      "STOP: TOTAL NO. of ITERATIONS REACHED LIMIT.\n",
      "\n",
      "Increase the number of iterations (max_iter) or scale the data as shown in:\n",
      "    https://scikit-learn.org/stable/modules/preprocessing.html\n",
      "Please also refer to the documentation for alternative solver options:\n",
      "    https://scikit-learn.org/stable/modules/linear_model.html#logistic-regression\n",
      "  \n",
      "C:\\Users\\Lucky Singh\\AppData\\Local\\Programs\\Python\\Python310\\lib\\site-packages\\sklearn\\linear_model\\_logistic.py:814: ConvergenceWarning: lbfgs failed to converge (status=1):\n",
      "STOP: TOTAL NO. of ITERATIONS REACHED LIMIT.\n",
      "\n",
      "Increase the number of iterations (max_iter) or scale the data as shown in:\n",
      "    https://scikit-learn.org/stable/modules/preprocessing.html\n",
      "Please also refer to the documentation for alternative solver options:\n",
      "    https://scikit-learn.org/stable/modules/linear_model.html#logistic-regression\n",
      "  \n",
      "C:\\Users\\Lucky Singh\\AppData\\Local\\Programs\\Python\\Python310\\lib\\site-packages\\sklearn\\linear_model\\_logistic.py:814: ConvergenceWarning: lbfgs failed to converge (status=1):\n",
      "STOP: TOTAL NO. of ITERATIONS REACHED LIMIT.\n",
      "\n",
      "Increase the number of iterations (max_iter) or scale the data as shown in:\n",
      "    https://scikit-learn.org/stable/modules/preprocessing.html\n",
      "Please also refer to the documentation for alternative solver options:\n",
      "    https://scikit-learn.org/stable/modules/linear_model.html#logistic-regression\n",
      "  \n",
      "Features: 15/15"
     ]
    }
   ],
   "source": [
    "model=sel.fit(X,y)"
   ]
  },
  {
   "cell_type": "code",
   "execution_count": 28,
   "id": "4435f069",
   "metadata": {},
   "outputs": [
    {
     "name": "stdout",
     "output_type": "stream",
     "text": [
      "Best accuracy score: 0.97\n",
      "Best subset (indices): (1, 2, 3)\n",
      "Best subset (corresponding names): ('sepal_width', 'petal_length', 'petal_width')\n"
     ]
    }
   ],
   "source": [
    "print('Best accuracy score: %.2f' % model.best_score_)\n",
    "print('Best subset (indices):', model.best_idx_)\n",
    "print('Best subset (corresponding names):', model.best_feature_names_)"
   ]
  },
  {
   "cell_type": "code",
   "execution_count": 29,
   "id": "dfe229c8",
   "metadata": {},
   "outputs": [
    {
     "data": {
      "text/plain": [
       "{0: {'feature_idx': (0,),\n",
       "  'cv_scores': array([0.66666667, 0.73333333, 0.76666667, 0.76666667, 0.83333333]),\n",
       "  'avg_score': 0.7533333333333333,\n",
       "  'feature_names': ('sepal_length',)},\n",
       " 1: {'feature_idx': (1,),\n",
       "  'cv_scores': array([0.53333333, 0.56666667, 0.53333333, 0.53333333, 0.63333333]),\n",
       "  'avg_score': 0.5599999999999999,\n",
       "  'feature_names': ('sepal_width',)},\n",
       " 2: {'feature_idx': (2,),\n",
       "  'cv_scores': array([0.93333333, 1.        , 0.9       , 0.93333333, 1.        ]),\n",
       "  'avg_score': 0.9533333333333334,\n",
       "  'feature_names': ('petal_length',)},\n",
       " 3: {'feature_idx': (3,),\n",
       "  'cv_scores': array([1.        , 0.96666667, 0.9       , 0.93333333, 1.        ]),\n",
       "  'avg_score': 0.96,\n",
       "  'feature_names': ('petal_width',)},\n",
       " 4: {'feature_idx': (0, 1),\n",
       "  'cv_scores': array([0.73333333, 0.83333333, 0.76666667, 0.86666667, 0.9       ]),\n",
       "  'avg_score': 0.8200000000000001,\n",
       "  'feature_names': ('sepal_length', 'sepal_width')},\n",
       " 5: {'feature_idx': (0, 2),\n",
       "  'cv_scores': array([0.93333333, 1.        , 0.9       , 0.93333333, 1.        ]),\n",
       "  'avg_score': 0.9533333333333334,\n",
       "  'feature_names': ('sepal_length', 'petal_length')},\n",
       " 6: {'feature_idx': (0, 3),\n",
       "  'cv_scores': array([0.93333333, 0.96666667, 0.93333333, 0.93333333, 1.        ]),\n",
       "  'avg_score': 0.9533333333333334,\n",
       "  'feature_names': ('sepal_length', 'petal_width')},\n",
       " 7: {'feature_idx': (1, 2),\n",
       "  'cv_scores': array([0.93333333, 1.        , 0.9       , 0.93333333, 1.        ]),\n",
       "  'avg_score': 0.9533333333333334,\n",
       "  'feature_names': ('sepal_width', 'petal_length')},\n",
       " 8: {'feature_idx': (1, 3),\n",
       "  'cv_scores': array([0.93333333, 0.96666667, 0.9       , 0.93333333, 0.96666667]),\n",
       "  'avg_score': 0.9400000000000001,\n",
       "  'feature_names': ('sepal_width', 'petal_width')},\n",
       " 9: {'feature_idx': (2, 3),\n",
       "  'cv_scores': array([0.96666667, 0.96666667, 0.93333333, 0.93333333, 1.        ]),\n",
       "  'avg_score': 0.96,\n",
       "  'feature_names': ('petal_length', 'petal_width')},\n",
       " 10: {'feature_idx': (0, 1, 2),\n",
       "  'cv_scores': array([0.93333333, 1.        , 0.9       , 0.93333333, 1.        ]),\n",
       "  'avg_score': 0.9533333333333334,\n",
       "  'feature_names': ('sepal_length', 'sepal_width', 'petal_length')},\n",
       " 11: {'feature_idx': (0, 1, 3),\n",
       "  'cv_scores': array([0.9       , 0.96666667, 0.93333333, 0.93333333, 1.        ]),\n",
       "  'avg_score': 0.9466666666666667,\n",
       "  'feature_names': ('sepal_length', 'sepal_width', 'petal_width')},\n",
       " 12: {'feature_idx': (0, 2, 3),\n",
       "  'cv_scores': array([0.96666667, 0.96666667, 0.93333333, 0.96666667, 1.        ]),\n",
       "  'avg_score': 0.9666666666666668,\n",
       "  'feature_names': ('sepal_length', 'petal_length', 'petal_width')},\n",
       " 13: {'feature_idx': (1, 2, 3),\n",
       "  'cv_scores': array([0.96666667, 1.        , 0.93333333, 0.96666667, 1.        ]),\n",
       "  'avg_score': 0.9733333333333334,\n",
       "  'feature_names': ('sepal_width', 'petal_length', 'petal_width')},\n",
       " 14: {'feature_idx': (0, 1, 2, 3),\n",
       "  'cv_scores': array([0.96666667, 1.        , 0.93333333, 0.96666667, 1.        ]),\n",
       "  'avg_score': 0.9733333333333334,\n",
       "  'feature_names': ('sepal_length',\n",
       "   'sepal_width',\n",
       "   'petal_length',\n",
       "   'petal_width')}}"
      ]
     },
     "execution_count": 29,
     "metadata": {},
     "output_type": "execute_result"
    }
   ],
   "source": [
    "#detailed output\n",
    "model.subsets_"
   ]
  },
  {
   "cell_type": "code",
   "execution_count": 31,
   "id": "07e24c89",
   "metadata": {},
   "outputs": [
    {
     "data": {
      "text/html": [
       "<div>\n",
       "<style scoped>\n",
       "    .dataframe tbody tr th:only-of-type {\n",
       "        vertical-align: middle;\n",
       "    }\n",
       "\n",
       "    .dataframe tbody tr th {\n",
       "        vertical-align: top;\n",
       "    }\n",
       "\n",
       "    .dataframe thead th {\n",
       "        text-align: right;\n",
       "    }\n",
       "</style>\n",
       "<table border=\"1\" class=\"dataframe\">\n",
       "  <thead>\n",
       "    <tr style=\"text-align: right;\">\n",
       "      <th></th>\n",
       "      <th>feature_idx</th>\n",
       "      <th>cv_scores</th>\n",
       "      <th>avg_score</th>\n",
       "      <th>feature_names</th>\n",
       "      <th>ci_bound</th>\n",
       "      <th>std_dev</th>\n",
       "      <th>std_err</th>\n",
       "    </tr>\n",
       "  </thead>\n",
       "  <tbody>\n",
       "    <tr>\n",
       "      <th>0</th>\n",
       "      <td>(0,)</td>\n",
       "      <td>[0.6666666666666666, 0.7333333333333333, 0.766...</td>\n",
       "      <td>0.753333</td>\n",
       "      <td>(sepal_length,)</td>\n",
       "      <td>0.069612</td>\n",
       "      <td>0.05416</td>\n",
       "      <td>0.02708</td>\n",
       "    </tr>\n",
       "    <tr>\n",
       "      <th>1</th>\n",
       "      <td>(1,)</td>\n",
       "      <td>[0.5333333333333333, 0.5666666666666667, 0.533...</td>\n",
       "      <td>0.56</td>\n",
       "      <td>(sepal_width,)</td>\n",
       "      <td>0.049963</td>\n",
       "      <td>0.038873</td>\n",
       "      <td>0.019437</td>\n",
       "    </tr>\n",
       "    <tr>\n",
       "      <th>2</th>\n",
       "      <td>(2,)</td>\n",
       "      <td>[0.9333333333333333, 1.0, 0.9, 0.9333333333333...</td>\n",
       "      <td>0.953333</td>\n",
       "      <td>(petal_length,)</td>\n",
       "      <td>0.051412</td>\n",
       "      <td>0.04</td>\n",
       "      <td>0.02</td>\n",
       "    </tr>\n",
       "    <tr>\n",
       "      <th>3</th>\n",
       "      <td>(3,)</td>\n",
       "      <td>[1.0, 0.9666666666666667, 0.9, 0.9333333333333...</td>\n",
       "      <td>0.96</td>\n",
       "      <td>(petal_width,)</td>\n",
       "      <td>0.049963</td>\n",
       "      <td>0.038873</td>\n",
       "      <td>0.019437</td>\n",
       "    </tr>\n",
       "    <tr>\n",
       "      <th>4</th>\n",
       "      <td>(0, 1)</td>\n",
       "      <td>[0.7333333333333333, 0.8333333333333334, 0.766...</td>\n",
       "      <td>0.82</td>\n",
       "      <td>(sepal_length, sepal_width)</td>\n",
       "      <td>0.079462</td>\n",
       "      <td>0.061824</td>\n",
       "      <td>0.030912</td>\n",
       "    </tr>\n",
       "    <tr>\n",
       "      <th>5</th>\n",
       "      <td>(0, 2)</td>\n",
       "      <td>[0.9333333333333333, 1.0, 0.9, 0.9333333333333...</td>\n",
       "      <td>0.953333</td>\n",
       "      <td>(sepal_length, petal_length)</td>\n",
       "      <td>0.051412</td>\n",
       "      <td>0.04</td>\n",
       "      <td>0.02</td>\n",
       "    </tr>\n",
       "    <tr>\n",
       "      <th>6</th>\n",
       "      <td>(0, 3)</td>\n",
       "      <td>[0.9333333333333333, 0.9666666666666667, 0.933...</td>\n",
       "      <td>0.953333</td>\n",
       "      <td>(sepal_length, petal_width)</td>\n",
       "      <td>0.034274</td>\n",
       "      <td>0.026667</td>\n",
       "      <td>0.013333</td>\n",
       "    </tr>\n",
       "    <tr>\n",
       "      <th>7</th>\n",
       "      <td>(1, 2)</td>\n",
       "      <td>[0.9333333333333333, 1.0, 0.9, 0.9333333333333...</td>\n",
       "      <td>0.953333</td>\n",
       "      <td>(sepal_width, petal_length)</td>\n",
       "      <td>0.051412</td>\n",
       "      <td>0.04</td>\n",
       "      <td>0.02</td>\n",
       "    </tr>\n",
       "    <tr>\n",
       "      <th>8</th>\n",
       "      <td>(1, 3)</td>\n",
       "      <td>[0.9333333333333333, 0.9666666666666667, 0.9, ...</td>\n",
       "      <td>0.94</td>\n",
       "      <td>(sepal_width, petal_width)</td>\n",
       "      <td>0.032061</td>\n",
       "      <td>0.024944</td>\n",
       "      <td>0.012472</td>\n",
       "    </tr>\n",
       "    <tr>\n",
       "      <th>9</th>\n",
       "      <td>(2, 3)</td>\n",
       "      <td>[0.9666666666666667, 0.9666666666666667, 0.933...</td>\n",
       "      <td>0.96</td>\n",
       "      <td>(petal_length, petal_width)</td>\n",
       "      <td>0.032061</td>\n",
       "      <td>0.024944</td>\n",
       "      <td>0.012472</td>\n",
       "    </tr>\n",
       "    <tr>\n",
       "      <th>10</th>\n",
       "      <td>(0, 1, 2)</td>\n",
       "      <td>[0.9333333333333333, 1.0, 0.9, 0.9333333333333...</td>\n",
       "      <td>0.953333</td>\n",
       "      <td>(sepal_length, sepal_width, petal_length)</td>\n",
       "      <td>0.051412</td>\n",
       "      <td>0.04</td>\n",
       "      <td>0.02</td>\n",
       "    </tr>\n",
       "    <tr>\n",
       "      <th>11</th>\n",
       "      <td>(0, 1, 3)</td>\n",
       "      <td>[0.9, 0.9666666666666667, 0.9333333333333333, ...</td>\n",
       "      <td>0.946667</td>\n",
       "      <td>(sepal_length, sepal_width, petal_width)</td>\n",
       "      <td>0.043691</td>\n",
       "      <td>0.033993</td>\n",
       "      <td>0.016997</td>\n",
       "    </tr>\n",
       "    <tr>\n",
       "      <th>12</th>\n",
       "      <td>(0, 2, 3)</td>\n",
       "      <td>[0.9666666666666667, 0.9666666666666667, 0.933...</td>\n",
       "      <td>0.966667</td>\n",
       "      <td>(sepal_length, petal_length, petal_width)</td>\n",
       "      <td>0.027096</td>\n",
       "      <td>0.021082</td>\n",
       "      <td>0.010541</td>\n",
       "    </tr>\n",
       "    <tr>\n",
       "      <th>13</th>\n",
       "      <td>(1, 2, 3)</td>\n",
       "      <td>[0.9666666666666667, 1.0, 0.9333333333333333, ...</td>\n",
       "      <td>0.973333</td>\n",
       "      <td>(sepal_width, petal_length, petal_width)</td>\n",
       "      <td>0.032061</td>\n",
       "      <td>0.024944</td>\n",
       "      <td>0.012472</td>\n",
       "    </tr>\n",
       "    <tr>\n",
       "      <th>14</th>\n",
       "      <td>(0, 1, 2, 3)</td>\n",
       "      <td>[0.9666666666666667, 1.0, 0.9333333333333333, ...</td>\n",
       "      <td>0.973333</td>\n",
       "      <td>(sepal_length, sepal_width, petal_length, peta...</td>\n",
       "      <td>0.032061</td>\n",
       "      <td>0.024944</td>\n",
       "      <td>0.012472</td>\n",
       "    </tr>\n",
       "  </tbody>\n",
       "</table>\n",
       "</div>"
      ],
      "text/plain": [
       "     feature_idx                                          cv_scores avg_score  \\\n",
       "0           (0,)  [0.6666666666666666, 0.7333333333333333, 0.766...  0.753333   \n",
       "1           (1,)  [0.5333333333333333, 0.5666666666666667, 0.533...      0.56   \n",
       "2           (2,)  [0.9333333333333333, 1.0, 0.9, 0.9333333333333...  0.953333   \n",
       "3           (3,)  [1.0, 0.9666666666666667, 0.9, 0.9333333333333...      0.96   \n",
       "4         (0, 1)  [0.7333333333333333, 0.8333333333333334, 0.766...      0.82   \n",
       "5         (0, 2)  [0.9333333333333333, 1.0, 0.9, 0.9333333333333...  0.953333   \n",
       "6         (0, 3)  [0.9333333333333333, 0.9666666666666667, 0.933...  0.953333   \n",
       "7         (1, 2)  [0.9333333333333333, 1.0, 0.9, 0.9333333333333...  0.953333   \n",
       "8         (1, 3)  [0.9333333333333333, 0.9666666666666667, 0.9, ...      0.94   \n",
       "9         (2, 3)  [0.9666666666666667, 0.9666666666666667, 0.933...      0.96   \n",
       "10     (0, 1, 2)  [0.9333333333333333, 1.0, 0.9, 0.9333333333333...  0.953333   \n",
       "11     (0, 1, 3)  [0.9, 0.9666666666666667, 0.9333333333333333, ...  0.946667   \n",
       "12     (0, 2, 3)  [0.9666666666666667, 0.9666666666666667, 0.933...  0.966667   \n",
       "13     (1, 2, 3)  [0.9666666666666667, 1.0, 0.9333333333333333, ...  0.973333   \n",
       "14  (0, 1, 2, 3)  [0.9666666666666667, 1.0, 0.9333333333333333, ...  0.973333   \n",
       "\n",
       "                                        feature_names  ci_bound   std_dev  \\\n",
       "0                                     (sepal_length,)  0.069612   0.05416   \n",
       "1                                      (sepal_width,)  0.049963  0.038873   \n",
       "2                                     (petal_length,)  0.051412      0.04   \n",
       "3                                      (petal_width,)  0.049963  0.038873   \n",
       "4                         (sepal_length, sepal_width)  0.079462  0.061824   \n",
       "5                        (sepal_length, petal_length)  0.051412      0.04   \n",
       "6                         (sepal_length, petal_width)  0.034274  0.026667   \n",
       "7                         (sepal_width, petal_length)  0.051412      0.04   \n",
       "8                          (sepal_width, petal_width)  0.032061  0.024944   \n",
       "9                         (petal_length, petal_width)  0.032061  0.024944   \n",
       "10          (sepal_length, sepal_width, petal_length)  0.051412      0.04   \n",
       "11           (sepal_length, sepal_width, petal_width)  0.043691  0.033993   \n",
       "12          (sepal_length, petal_length, petal_width)  0.027096  0.021082   \n",
       "13           (sepal_width, petal_length, petal_width)  0.032061  0.024944   \n",
       "14  (sepal_length, sepal_width, petal_length, peta...  0.032061  0.024944   \n",
       "\n",
       "     std_err  \n",
       "0    0.02708  \n",
       "1   0.019437  \n",
       "2       0.02  \n",
       "3   0.019437  \n",
       "4   0.030912  \n",
       "5       0.02  \n",
       "6   0.013333  \n",
       "7       0.02  \n",
       "8   0.012472  \n",
       "9   0.012472  \n",
       "10      0.02  \n",
       "11  0.016997  \n",
       "12  0.010541  \n",
       "13  0.012472  \n",
       "14  0.012472  "
      ]
     },
     "execution_count": 31,
     "metadata": {},
     "output_type": "execute_result"
    }
   ],
   "source": [
    "metric_df= pd.DataFrame.from_dict(model.get_metric_dict()).T\n",
    "metric_df.sort_values('avg_score', ascending=False)\n",
    "metric_df"
   ]
  },
  {
   "cell_type": "code",
   "execution_count": 32,
   "id": "482f90ce",
   "metadata": {},
   "outputs": [
    {
     "data": {
      "image/png": "[encoded data removed]",
      "text/plain": [
       "<Figure size 432x288 with 1 Axes>"
      ]
     },
     "metadata": {
      "needs_background": "light"
     },
     "output_type": "display_data"
    }
   ],
   "source": [
    "import matplotlib.pyplot as plt\n",
    "\n",
    "plt.plot([str(k) for k in metric_df['feature_names']],metric_df['avg_score'])\n",
    "plt.xticks(rotation=90)\n",
    "plt.show()"
   ]
  },
  {
   "cell_type": "markdown",
   "id": "1c58317d",
   "metadata": {},
   "source": [
    "### Regression Example"
   ]
  },
  {
   "cell_type": "code",
   "execution_count": 74,
   "id": "d6bb609d",
   "metadata": {},
   "outputs": [
    {
     "data": {
      "text/html": [
       "<div>\n",
       "<style scoped>\n",
       "    .dataframe tbody tr th:only-of-type {\n",
       "        vertical-align: middle;\n",
       "    }\n",
       "\n",
       "    .dataframe tbody tr th {\n",
       "        vertical-align: top;\n",
       "    }\n",
       "\n",
       "    .dataframe thead th {\n",
       "        text-align: right;\n",
       "    }\n",
       "</style>\n",
       "<table border=\"1\" class=\"dataframe\">\n",
       "  <thead>\n",
       "    <tr style=\"text-align: right;\">\n",
       "      <th></th>\n",
       "      <th>crim</th>\n",
       "      <th>zn</th>\n",
       "      <th>indus</th>\n",
       "      <th>chas</th>\n",
       "      <th>nox</th>\n",
       "      <th>rm</th>\n",
       "      <th>age</th>\n",
       "      <th>dis</th>\n",
       "      <th>rad</th>\n",
       "      <th>tax</th>\n",
       "      <th>ptratio</th>\n",
       "      <th>b</th>\n",
       "      <th>lstat</th>\n",
       "      <th>medv</th>\n",
       "    </tr>\n",
       "  </thead>\n",
       "  <tbody>\n",
       "    <tr>\n",
       "      <th>0</th>\n",
       "      <td>0.00632</td>\n",
       "      <td>18.0</td>\n",
       "      <td>2.31</td>\n",
       "      <td>0</td>\n",
       "      <td>0.538</td>\n",
       "      <td>6.575</td>\n",
       "      <td>65.2</td>\n",
       "      <td>4.0900</td>\n",
       "      <td>1</td>\n",
       "      <td>296</td>\n",
       "      <td>15.3</td>\n",
       "      <td>396.90</td>\n",
       "      <td>4.98</td>\n",
       "      <td>24.0</td>\n",
       "    </tr>\n",
       "    <tr>\n",
       "      <th>1</th>\n",
       "      <td>0.02731</td>\n",
       "      <td>0.0</td>\n",
       "      <td>7.07</td>\n",
       "      <td>0</td>\n",
       "      <td>0.469</td>\n",
       "      <td>6.421</td>\n",
       "      <td>78.9</td>\n",
       "      <td>4.9671</td>\n",
       "      <td>2</td>\n",
       "      <td>242</td>\n",
       "      <td>17.8</td>\n",
       "      <td>396.90</td>\n",
       "      <td>9.14</td>\n",
       "      <td>21.6</td>\n",
       "    </tr>\n",
       "    <tr>\n",
       "      <th>2</th>\n",
       "      <td>0.02729</td>\n",
       "      <td>0.0</td>\n",
       "      <td>7.07</td>\n",
       "      <td>0</td>\n",
       "      <td>0.469</td>\n",
       "      <td>7.185</td>\n",
       "      <td>61.1</td>\n",
       "      <td>4.9671</td>\n",
       "      <td>2</td>\n",
       "      <td>242</td>\n",
       "      <td>17.8</td>\n",
       "      <td>392.83</td>\n",
       "      <td>4.03</td>\n",
       "      <td>34.7</td>\n",
       "    </tr>\n",
       "    <tr>\n",
       "      <th>3</th>\n",
       "      <td>0.03237</td>\n",
       "      <td>0.0</td>\n",
       "      <td>2.18</td>\n",
       "      <td>0</td>\n",
       "      <td>0.458</td>\n",
       "      <td>6.998</td>\n",
       "      <td>45.8</td>\n",
       "      <td>6.0622</td>\n",
       "      <td>3</td>\n",
       "      <td>222</td>\n",
       "      <td>18.7</td>\n",
       "      <td>394.63</td>\n",
       "      <td>2.94</td>\n",
       "      <td>33.4</td>\n",
       "    </tr>\n",
       "    <tr>\n",
       "      <th>4</th>\n",
       "      <td>0.06905</td>\n",
       "      <td>0.0</td>\n",
       "      <td>2.18</td>\n",
       "      <td>0</td>\n",
       "      <td>0.458</td>\n",
       "      <td>7.147</td>\n",
       "      <td>54.2</td>\n",
       "      <td>6.0622</td>\n",
       "      <td>3</td>\n",
       "      <td>222</td>\n",
       "      <td>18.7</td>\n",
       "      <td>396.90</td>\n",
       "      <td>5.33</td>\n",
       "      <td>36.2</td>\n",
       "    </tr>\n",
       "  </tbody>\n",
       "</table>\n",
       "</div>"
      ],
      "text/plain": [
       "      crim    zn  indus  chas    nox     rm   age     dis  rad  tax  ptratio  \\\n",
       "0  0.00632  18.0   2.31     0  0.538  6.575  65.2  4.0900    1  296     15.3   \n",
       "1  0.02731   0.0   7.07     0  0.469  6.421  78.9  4.9671    2  242     17.8   \n",
       "2  0.02729   0.0   7.07     0  0.469  7.185  61.1  4.9671    2  242     17.8   \n",
       "3  0.03237   0.0   2.18     0  0.458  6.998  45.8  6.0622    3  222     18.7   \n",
       "4  0.06905   0.0   2.18     0  0.458  7.147  54.2  6.0622    3  222     18.7   \n",
       "\n",
       "        b  lstat  medv  \n",
       "0  396.90   4.98  24.0  \n",
       "1  396.90   9.14  21.6  \n",
       "2  392.83   4.03  34.7  \n",
       "3  394.63   2.94  33.4  \n",
       "4  396.90   5.33  36.2  "
      ]
     },
     "execution_count": 74,
     "metadata": {},
     "output_type": "execute_result"
    }
   ],
   "source": [
    "df = pd.read_csv('https://raw.githubusercontent.com/selva86/datasets/master/BostonHousing.csv')\n",
    "df.head()"
   ]
  },
  {
   "cell_type": "code",
   "execution_count": 75,
   "id": "f099c18a",
   "metadata": {},
   "outputs": [],
   "source": [
    "X=df.iloc[:,:-1]\n",
    "y=df['medv']"
   ]
  },
  {
   "cell_type": "code",
   "execution_count": 76,
   "id": "be5720f3",
   "metadata": {},
   "outputs": [],
   "source": [
    "from sklearn.model_selection import train_test_split\n",
    "X_train,X_test,y_train,y_test=train_test_split(X,y,random_state=1,test_size=0.2)\n"
   ]
  },
  {
   "cell_type": "code",
   "execution_count": 77,
   "id": "a6d0d7ee",
   "metadata": {},
   "outputs": [
    {
     "name": "stdout",
     "output_type": "stream",
     "text": [
      "(404, 13)\n",
      "(102, 13)\n"
     ]
    }
   ],
   "source": [
    "print(X_train.shape)\n",
    "print(X_test.shape)"
   ]
  },
  {
   "cell_type": "code",
   "execution_count": 85,
   "id": "97877273",
   "metadata": {},
   "outputs": [],
   "source": [
    "from sklearn.preprocessing import StandardScaler\n",
    "sc=StandardScaler()\n",
    "X_train=sc.fit_transform(X_train)\n",
    "X_test=sc.transform(X_test)"
   ]
  },
  {
   "cell_type": "code",
   "execution_count": 86,
   "id": "d0bb6e1b",
   "metadata": {},
   "outputs": [
    {
     "name": "stdout",
     "output_type": "stream",
     "text": [
      "Training 0.7025123301096212\n",
      "testing 0.6514899901155403\n"
     ]
    }
   ],
   "source": [
    "#model\n",
    "from sklearn.metrics import r2_score\n",
    "model=LinearRegression()\n",
    "\n",
    "cross_val_score(model,X_train,y_train,cv=5,scoring='r2')\n",
    "print(\"Training\",np.mean(cross_val_score(model,X_train,y_train,cv=5,scoring='r2')))\n",
    "print(\"testing\",np.mean(cross_val_score(model, X_test, y_test, cv=5, scoring='r2')))"
   ]
  },
  {
   "cell_type": "code",
   "execution_count": 87,
   "id": "c6538126",
   "metadata": {},
   "outputs": [
    {
     "name": "stderr",
     "output_type": "stream",
     "text": [
      "exception calling callback for <Future at 0x19f045d1f30 state=finished raised TerminatedWorkerError>\n",
      "Traceback (most recent call last):\n",
      "  File \"C:\\Users\\Lucky Singh\\AppData\\Local\\Programs\\Python\\Python310\\lib\\site-packages\\joblib\\externals\\loky\\_base.py\", line 625, in _invoke_callbacks\n",
      "  File \"C:\\Users\\Lucky Singh\\AppData\\Local\\Programs\\Python\\Python310\\lib\\site-packages\\joblib\\parallel.py\", line 359, in __call__\n",
      "    **backend_params\n",
      "  File \"C:\\Users\\Lucky Singh\\AppData\\Local\\Programs\\Python\\Python310\\lib\\site-packages\\joblib\\parallel.py\", line 794, in dispatch_next\n",
      "    # registers the task outcome (TASK_ERROR or TASK_DONE), and schedules\n",
      "  File \"C:\\Users\\Lucky Singh\\AppData\\Local\\Programs\\Python\\Python310\\lib\\site-packages\\joblib\\parallel.py\", line 861, in dispatch_one_batch\n",
      "    with self.parallel._lock:\n",
      "  File \"C:\\Users\\Lucky Singh\\AppData\\Local\\Programs\\Python\\Python310\\lib\\site-packages\\joblib\\parallel.py\", line 779, in _dispatch\n",
      "  File \"C:\\Users\\Lucky Singh\\AppData\\Local\\Programs\\Python\\Python310\\lib\\site-packages\\joblib\\_parallel_backends.py\", line 531, in apply_async\n",
      "    \"\"\"Shutdown the process or thread pool\"\"\"\n",
      "  File \"C:\\Users\\Lucky Singh\\AppData\\Local\\Programs\\Python\\Python310\\lib\\site-packages\\joblib\\externals\\loky\\reusable_executor.py\", line 177, in submit\n",
      "    mp.util.debug(\n",
      "  File \"C:\\Users\\Lucky Singh\\AppData\\Local\\Programs\\Python\\Python310\\lib\\site-packages\\joblib\\externals\\loky\\process_executor.py\", line 1115, in submit\n",
      "    # of the main loop of executor_manager_thread from another thread (e.g.\n",
      "joblib.externals.loky.process_executor.TerminatedWorkerError: A worker process managed by the executor was unexpectedly terminated. This could be caused by a segmentation fault while calling the function or by an excessive memory usage causing the Operating System to kill the worker.\n",
      "\n"
     ]
    },
    {
     "ename": "TerminatedWorkerError",
     "evalue": "A worker process managed by the executor was unexpectedly terminated. This could be caused by a segmentation fault while calling the function or by an excessive memory usage causing the Operating System to kill the worker.\n",
     "output_type": "error",
     "traceback": [
      "\u001b[1;31m---------------------------------------------------------------------------\u001b[0m",
      "\u001b[1;31mTerminatedWorkerError\u001b[0m                     Traceback (most recent call last)",
      "Input \u001b[1;32mIn [87]\u001b[0m, in \u001b[0;36m<module>\u001b[1;34m\u001b[0m\n\u001b[0;32m      1\u001b[0m lr \u001b[38;5;241m=\u001b[39m LinearRegression()\n\u001b[0;32m      3\u001b[0m exh \u001b[38;5;241m=\u001b[39m EFS(lr, max_features\u001b[38;5;241m=\u001b[39m\u001b[38;5;241m13\u001b[39m, scoring\u001b[38;5;241m=\u001b[39m\u001b[38;5;124m'\u001b[39m\u001b[38;5;124mr2\u001b[39m\u001b[38;5;124m'\u001b[39m, cv\u001b[38;5;241m=\u001b[39m\u001b[38;5;241m10\u001b[39m, print_progress\u001b[38;5;241m=\u001b[39m\u001b[38;5;28;01mTrue\u001b[39;00m,n_jobs\u001b[38;5;241m=\u001b[39m\u001b[38;5;241m-\u001b[39m\u001b[38;5;241m1\u001b[39m)\n\u001b[1;32m----> 5\u001b[0m sel \u001b[38;5;241m=\u001b[39m \u001b[43mexh\u001b[49m\u001b[38;5;241;43m.\u001b[39;49m\u001b[43mfit\u001b[49m\u001b[43m(\u001b[49m\u001b[43mX_train\u001b[49m\u001b[43m,\u001b[49m\u001b[43m \u001b[49m\u001b[43my_train\u001b[49m\u001b[43m)\u001b[49m\n",
      "File \u001b[1;32m~\\AppData\\Local\\Programs\\Python\\Python310\\lib\\site-packages\\mlxtend\\feature_selection\\exhaustive_feature_selector.py:444\u001b[0m, in \u001b[0;36mExhaustiveFeatureSelector.fit\u001b[1;34m(self, X, y, groups, **fit_params)\u001b[0m\n\u001b[0;32m    441\u001b[0m n_jobs \u001b[38;5;241m=\u001b[39m \u001b[38;5;28mmin\u001b[39m(\u001b[38;5;28mself\u001b[39m\u001b[38;5;241m.\u001b[39mn_jobs, all_comb)\n\u001b[0;32m    442\u001b[0m parallel \u001b[38;5;241m=\u001b[39m Parallel(n_jobs\u001b[38;5;241m=\u001b[39mn_jobs, pre_dispatch\u001b[38;5;241m=\u001b[39m\u001b[38;5;28mself\u001b[39m\u001b[38;5;241m.\u001b[39mpre_dispatch)\n\u001b[0;32m    443\u001b[0m work \u001b[38;5;241m=\u001b[39m \u001b[38;5;28menumerate\u001b[39m(\n\u001b[1;32m--> 444\u001b[0m     \u001b[43mparallel\u001b[49m\u001b[43m(\u001b[49m\n\u001b[0;32m    445\u001b[0m \u001b[43m        \u001b[49m\u001b[43mdelayed\u001b[49m\u001b[43m(\u001b[49m\u001b[43m_calc_score\u001b[49m\u001b[43m)\u001b[49m\u001b[43m(\u001b[49m\n\u001b[0;32m    446\u001b[0m \u001b[43m            \u001b[49m\u001b[38;5;28;43mself\u001b[39;49m\u001b[43m,\u001b[49m\n\u001b[0;32m    447\u001b[0m \u001b[43m            \u001b[49m\u001b[43mX_\u001b[49m\u001b[43m,\u001b[49m\n\u001b[0;32m    448\u001b[0m \u001b[43m            \u001b[49m\u001b[43my\u001b[49m\u001b[43m,\u001b[49m\n\u001b[0;32m    449\u001b[0m \u001b[43m            \u001b[49m\u001b[38;5;28;43mlist\u001b[39;49m\u001b[43m(\u001b[49m\u001b[38;5;28;43mset\u001b[39;49m\u001b[43m(\u001b[49m\u001b[43mc\u001b[49m\u001b[43m)\u001b[49m\u001b[38;5;241;43m.\u001b[39;49m\u001b[43munion\u001b[49m\u001b[43m(\u001b[49m\u001b[38;5;28;43mself\u001b[39;49m\u001b[38;5;241;43m.\u001b[39;49m\u001b[43mfixed_features_group_set\u001b[49m\u001b[43m)\u001b[49m\u001b[43m)\u001b[49m\u001b[43m,\u001b[49m\n\u001b[0;32m    450\u001b[0m \u001b[43m            \u001b[49m\u001b[43mgroups\u001b[49m\u001b[38;5;241;43m=\u001b[39;49m\u001b[43mgroups\u001b[49m\u001b[43m,\u001b[49m\n\u001b[0;32m    451\u001b[0m \u001b[43m            \u001b[49m\u001b[43mfeature_groups\u001b[49m\u001b[38;5;241;43m=\u001b[39;49m\u001b[38;5;28;43mself\u001b[39;49m\u001b[38;5;241;43m.\u001b[39;49m\u001b[43mfeature_groups\u001b[49m\u001b[43m,\u001b[49m\n\u001b[0;32m    452\u001b[0m \u001b[43m            \u001b[49m\u001b[38;5;241;43m*\u001b[39;49m\u001b[38;5;241;43m*\u001b[39;49m\u001b[43mfit_params\u001b[49m\u001b[43m,\u001b[49m\n\u001b[0;32m    453\u001b[0m \u001b[43m        \u001b[49m\u001b[43m)\u001b[49m\n\u001b[0;32m    454\u001b[0m \u001b[43m        \u001b[49m\u001b[38;5;28;43;01mfor\u001b[39;49;00m\u001b[43m \u001b[49m\u001b[43mc\u001b[49m\u001b[43m \u001b[49m\u001b[38;5;129;43;01min\u001b[39;49;00m\u001b[43m \u001b[49m\u001b[43mcandidates\u001b[49m\n\u001b[0;32m    455\u001b[0m \u001b[43m    \u001b[49m\u001b[43m)\u001b[49m\n\u001b[0;32m    456\u001b[0m )\n\u001b[0;32m    458\u001b[0m \u001b[38;5;28;01mtry\u001b[39;00m:\n\u001b[0;32m    459\u001b[0m     \u001b[38;5;28;01mfor\u001b[39;00m iteration, (indices, cv_scores) \u001b[38;5;129;01min\u001b[39;00m work:\n",
      "File \u001b[1;32m~\\AppData\\Local\\Programs\\Python\\Python310\\lib\\site-packages\\joblib\\parallel.py:1056\u001b[0m, in \u001b[0;36m__call__\u001b[1;34m(self, iterable)\u001b[0m\n\u001b[0;32m    932\u001b[0m \u001b[38;5;28;01mclass\u001b[39;00m \u001b[38;5;21;01mParallel\u001b[39;00m(Logger):\n\u001b[0;32m    933\u001b[0m     \u001b[38;5;124;03m''' Helper class for readable parallel mapping.\u001b[39;00m\n\u001b[0;32m    934\u001b[0m \n\u001b[0;32m    935\u001b[0m \u001b[38;5;124;03m        Read more in the :ref:`User Guide <parallel>`.\u001b[39;00m\n\u001b[0;32m    936\u001b[0m \n\u001b[0;32m    937\u001b[0m \u001b[38;5;124;03m        Parameters\u001b[39;00m\n\u001b[0;32m    938\u001b[0m \u001b[38;5;124;03m        ----------\u001b[39;00m\n\u001b[0;32m    939\u001b[0m \u001b[38;5;124;03m        n_jobs: int, default: None\u001b[39;00m\n\u001b[0;32m    940\u001b[0m \u001b[38;5;124;03m            The maximum number of concurrently running jobs, such as the number\u001b[39;00m\n\u001b[0;32m    941\u001b[0m \u001b[38;5;124;03m            of Python worker processes when backend=\"multiprocessing\"\u001b[39;00m\n\u001b[0;32m    942\u001b[0m \u001b[38;5;124;03m            or the size of the thread-pool when backend=\"threading\".\u001b[39;00m\n\u001b[0;32m    943\u001b[0m \u001b[38;5;124;03m            If -1 all CPUs are used.\u001b[39;00m\n\u001b[0;32m    944\u001b[0m \u001b[38;5;124;03m            If 1 is given, no parallel computing code is used at all, and the\u001b[39;00m\n\u001b[0;32m    945\u001b[0m \u001b[38;5;124;03m            behavior amounts to a simple python `for` loop. This mode is not\u001b[39;00m\n\u001b[0;32m    946\u001b[0m \u001b[38;5;124;03m            compatible with `timeout`.\u001b[39;00m\n\u001b[0;32m    947\u001b[0m \u001b[38;5;124;03m            For n_jobs below -1, (n_cpus + 1 + n_jobs) are used. Thus for\u001b[39;00m\n\u001b[0;32m    948\u001b[0m \u001b[38;5;124;03m            n_jobs = -2, all CPUs but one are used.\u001b[39;00m\n\u001b[0;32m    949\u001b[0m \u001b[38;5;124;03m            None is a marker for 'unset' that will be interpreted as n_jobs=1\u001b[39;00m\n\u001b[0;32m    950\u001b[0m \u001b[38;5;124;03m            unless the call is performed under a :func:`~parallel_config`\u001b[39;00m\n\u001b[0;32m    951\u001b[0m \u001b[38;5;124;03m            context manager that sets another value for ``n_jobs``.\u001b[39;00m\n\u001b[0;32m    952\u001b[0m \u001b[38;5;124;03m        backend: str, ParallelBackendBase instance or None, default: 'loky'\u001b[39;00m\n\u001b[0;32m    953\u001b[0m \u001b[38;5;124;03m            Specify the parallelization backend implementation.\u001b[39;00m\n\u001b[0;32m    954\u001b[0m \u001b[38;5;124;03m            Supported backends are:\u001b[39;00m\n\u001b[0;32m    955\u001b[0m \n\u001b[0;32m    956\u001b[0m \u001b[38;5;124;03m            - \"loky\" used by default, can induce some\u001b[39;00m\n\u001b[0;32m    957\u001b[0m \u001b[38;5;124;03m              communication and memory overhead when exchanging input and\u001b[39;00m\n\u001b[0;32m    958\u001b[0m \u001b[38;5;124;03m              output data with the worker Python processes. On some rare\u001b[39;00m\n\u001b[0;32m    959\u001b[0m \u001b[38;5;124;03m              systems (such as Pyiodide), the loky backend may not be\u001b[39;00m\n\u001b[0;32m    960\u001b[0m \u001b[38;5;124;03m              available.\u001b[39;00m\n\u001b[0;32m    961\u001b[0m \u001b[38;5;124;03m            - \"multiprocessing\" previous process-based backend based on\u001b[39;00m\n\u001b[0;32m    962\u001b[0m \u001b[38;5;124;03m              `multiprocessing.Pool`. Less robust than `loky`.\u001b[39;00m\n\u001b[0;32m    963\u001b[0m \u001b[38;5;124;03m            - \"threading\" is a very low-overhead backend but it suffers\u001b[39;00m\n\u001b[0;32m    964\u001b[0m \u001b[38;5;124;03m              from the Python Global Interpreter Lock if the called function\u001b[39;00m\n\u001b[0;32m    965\u001b[0m \u001b[38;5;124;03m              relies a lot on Python objects. \"threading\" is mostly useful\u001b[39;00m\n\u001b[0;32m    966\u001b[0m \u001b[38;5;124;03m              when the execution bottleneck is a compiled extension that\u001b[39;00m\n\u001b[0;32m    967\u001b[0m \u001b[38;5;124;03m              explicitly releases the GIL (for instance a Cython loop wrapped\u001b[39;00m\n\u001b[0;32m    968\u001b[0m \u001b[38;5;124;03m              in a \"with nogil\" block or an expensive call to a library such\u001b[39;00m\n\u001b[0;32m    969\u001b[0m \u001b[38;5;124;03m              as NumPy).\u001b[39;00m\n\u001b[0;32m    970\u001b[0m \u001b[38;5;124;03m            - finally, you can register backends by calling\u001b[39;00m\n\u001b[0;32m    971\u001b[0m \u001b[38;5;124;03m              :func:`~register_parallel_backend`. This will allow you to\u001b[39;00m\n\u001b[0;32m    972\u001b[0m \u001b[38;5;124;03m              implement a backend of your liking.\u001b[39;00m\n\u001b[0;32m    973\u001b[0m \n\u001b[0;32m    974\u001b[0m \u001b[38;5;124;03m            It is not recommended to hard-code the backend name in a call to\u001b[39;00m\n\u001b[0;32m    975\u001b[0m \u001b[38;5;124;03m            :class:`~Parallel` in a library. Instead it is recommended to set\u001b[39;00m\n\u001b[0;32m    976\u001b[0m \u001b[38;5;124;03m            soft hints (prefer) or hard constraints (require) so as to make it\u001b[39;00m\n\u001b[0;32m    977\u001b[0m \u001b[38;5;124;03m            possible for library users to change the backend from the outside\u001b[39;00m\n\u001b[0;32m    978\u001b[0m \u001b[38;5;124;03m            using the :func:`~parallel_config` context manager.\u001b[39;00m\n\u001b[0;32m    979\u001b[0m \u001b[38;5;124;03m        return_as: str in {'list', 'generator'}, default: 'list'\u001b[39;00m\n\u001b[0;32m    980\u001b[0m \u001b[38;5;124;03m            If 'list', calls to this instance will return a list, only when\u001b[39;00m\n\u001b[0;32m    981\u001b[0m \u001b[38;5;124;03m            all results have been processed and retrieved.\u001b[39;00m\n\u001b[0;32m    982\u001b[0m \u001b[38;5;124;03m            If 'generator', it will return a generator that yields the results\u001b[39;00m\n\u001b[0;32m    983\u001b[0m \u001b[38;5;124;03m            as soon as they are available, in the order the tasks have been\u001b[39;00m\n\u001b[0;32m    984\u001b[0m \u001b[38;5;124;03m            submitted with.\u001b[39;00m\n\u001b[0;32m    985\u001b[0m \u001b[38;5;124;03m            Future releases are planned to also support 'generator_unordered',\u001b[39;00m\n\u001b[0;32m    986\u001b[0m \u001b[38;5;124;03m            in which case the generator immediately yields available results\u001b[39;00m\n\u001b[0;32m    987\u001b[0m \u001b[38;5;124;03m            independently of the submission order.\u001b[39;00m\n\u001b[0;32m    988\u001b[0m \u001b[38;5;124;03m        prefer: str in {'processes', 'threads'} or None, default: None\u001b[39;00m\n\u001b[0;32m    989\u001b[0m \u001b[38;5;124;03m            Soft hint to choose the default backend if no specific backend\u001b[39;00m\n\u001b[0;32m    990\u001b[0m \u001b[38;5;124;03m            was selected with the :func:`~parallel_config` context manager.\u001b[39;00m\n\u001b[0;32m    991\u001b[0m \u001b[38;5;124;03m            The default process-based backend is 'loky' and the default\u001b[39;00m\n\u001b[0;32m    992\u001b[0m \u001b[38;5;124;03m            thread-based backend is 'threading'. Ignored if the ``backend``\u001b[39;00m\n\u001b[0;32m    993\u001b[0m \u001b[38;5;124;03m            parameter is specified.\u001b[39;00m\n\u001b[0;32m    994\u001b[0m \u001b[38;5;124;03m        require: 'sharedmem' or None, default None\u001b[39;00m\n\u001b[0;32m    995\u001b[0m \u001b[38;5;124;03m            Hard constraint to select the backend. If set to 'sharedmem',\u001b[39;00m\n\u001b[0;32m    996\u001b[0m \u001b[38;5;124;03m            the selected backend will be single-host and thread-based even\u001b[39;00m\n\u001b[0;32m    997\u001b[0m \u001b[38;5;124;03m            if the user asked for a non-thread based backend with\u001b[39;00m\n\u001b[0;32m    998\u001b[0m \u001b[38;5;124;03m            :func:`~joblib.parallel_config`.\u001b[39;00m\n\u001b[0;32m    999\u001b[0m \u001b[38;5;124;03m        verbose: int, optional\u001b[39;00m\n\u001b[0;32m   1000\u001b[0m \u001b[38;5;124;03m            The verbosity level: if non zero, progress messages are\u001b[39;00m\n\u001b[0;32m   1001\u001b[0m \u001b[38;5;124;03m            printed. Above 50, the output is sent to stdout.\u001b[39;00m\n\u001b[0;32m   1002\u001b[0m \u001b[38;5;124;03m            The frequency of the messages increases with the verbosity level.\u001b[39;00m\n\u001b[0;32m   1003\u001b[0m \u001b[38;5;124;03m            If it more than 10, all iterations are reported.\u001b[39;00m\n\u001b[0;32m   1004\u001b[0m \u001b[38;5;124;03m        timeout: float, optional\u001b[39;00m\n\u001b[0;32m   1005\u001b[0m \u001b[38;5;124;03m            Timeout limit for each task to complete.  If any task takes longer\u001b[39;00m\n\u001b[0;32m   1006\u001b[0m \u001b[38;5;124;03m            a TimeOutError will be raised. Only applied when n_jobs != 1\u001b[39;00m\n\u001b[0;32m   1007\u001b[0m \u001b[38;5;124;03m        pre_dispatch: {'all', integer, or expression, as in '3*n_jobs'}\u001b[39;00m\n\u001b[0;32m   1008\u001b[0m \u001b[38;5;124;03m            The number of batches (of tasks) to be pre-dispatched.\u001b[39;00m\n\u001b[0;32m   1009\u001b[0m \u001b[38;5;124;03m            Default is '2*n_jobs'. When batch_size=\"auto\" this is reasonable\u001b[39;00m\n\u001b[0;32m   1010\u001b[0m \u001b[38;5;124;03m            default and the workers should never starve. Note that only basic\u001b[39;00m\n\u001b[0;32m   1011\u001b[0m \u001b[38;5;124;03m            arithmetics are allowed here and no modules can be used in this\u001b[39;00m\n\u001b[0;32m   1012\u001b[0m \u001b[38;5;124;03m            expression.\u001b[39;00m\n\u001b[0;32m   1013\u001b[0m \u001b[38;5;124;03m        batch_size: int or 'auto', default: 'auto'\u001b[39;00m\n\u001b[0;32m   1014\u001b[0m \u001b[38;5;124;03m            The number of atomic tasks to dispatch at once to each\u001b[39;00m\n\u001b[0;32m   1015\u001b[0m \u001b[38;5;124;03m            worker. When individual evaluations are very fast, dispatching\u001b[39;00m\n\u001b[0;32m   1016\u001b[0m \u001b[38;5;124;03m            calls to workers can be slower than sequential computation because\u001b[39;00m\n\u001b[0;32m   1017\u001b[0m \u001b[38;5;124;03m            of the overhead. Batching fast computations together can mitigate\u001b[39;00m\n\u001b[0;32m   1018\u001b[0m \u001b[38;5;124;03m            this.\u001b[39;00m\n\u001b[0;32m   1019\u001b[0m \u001b[38;5;124;03m            The ``'auto'`` strategy keeps track of the time it takes for a\u001b[39;00m\n\u001b[0;32m   1020\u001b[0m \u001b[38;5;124;03m            batch to complete, and dynamically adjusts the batch size to keep\u001b[39;00m\n\u001b[0;32m   1021\u001b[0m \u001b[38;5;124;03m            the time on the order of half a second, using a heuristic. The\u001b[39;00m\n\u001b[0;32m   1022\u001b[0m \u001b[38;5;124;03m            initial batch size is 1.\u001b[39;00m\n\u001b[0;32m   1023\u001b[0m \u001b[38;5;124;03m            ``batch_size=\"auto\"`` with ``backend=\"threading\"`` will dispatch\u001b[39;00m\n\u001b[0;32m   1024\u001b[0m \u001b[38;5;124;03m            batches of a single task at a time as the threading backend has\u001b[39;00m\n\u001b[0;32m   1025\u001b[0m \u001b[38;5;124;03m            very little overhead and using larger batch size has not proved to\u001b[39;00m\n\u001b[0;32m   1026\u001b[0m \u001b[38;5;124;03m            bring any gain in that case.\u001b[39;00m\n\u001b[0;32m   1027\u001b[0m \u001b[38;5;124;03m        temp_folder: str, optional\u001b[39;00m\n\u001b[0;32m   1028\u001b[0m \u001b[38;5;124;03m            Folder to be used by the pool for memmapping large arrays\u001b[39;00m\n\u001b[0;32m   1029\u001b[0m \u001b[38;5;124;03m            for sharing memory with worker processes. If None, this will try in\u001b[39;00m\n\u001b[0;32m   1030\u001b[0m \u001b[38;5;124;03m            order:\u001b[39;00m\n\u001b[0;32m   1031\u001b[0m \n\u001b[0;32m   1032\u001b[0m \u001b[38;5;124;03m            - a folder pointed by the JOBLIB_TEMP_FOLDER environment\u001b[39;00m\n\u001b[0;32m   1033\u001b[0m \u001b[38;5;124;03m              variable,\u001b[39;00m\n\u001b[0;32m   1034\u001b[0m \u001b[38;5;124;03m            - /dev/shm if the folder exists and is writable: this is a\u001b[39;00m\n\u001b[0;32m   1035\u001b[0m \u001b[38;5;124;03m              RAM disk filesystem available by default on modern Linux\u001b[39;00m\n\u001b[0;32m   1036\u001b[0m \u001b[38;5;124;03m              distributions,\u001b[39;00m\n\u001b[0;32m   1037\u001b[0m \u001b[38;5;124;03m            - the default system temporary folder that can be\u001b[39;00m\n\u001b[0;32m   1038\u001b[0m \u001b[38;5;124;03m              overridden with TMP, TMPDIR or TEMP environment\u001b[39;00m\n\u001b[0;32m   1039\u001b[0m \u001b[38;5;124;03m              variables, typically /tmp under Unix operating systems.\u001b[39;00m\n\u001b[0;32m   1040\u001b[0m \n\u001b[0;32m   1041\u001b[0m \u001b[38;5;124;03m            Only active when backend=\"loky\" or \"multiprocessing\".\u001b[39;00m\n\u001b[0;32m   1042\u001b[0m \u001b[38;5;124;03m        max_nbytes int, str, or None, optional, 1M by default\u001b[39;00m\n\u001b[0;32m   1043\u001b[0m \u001b[38;5;124;03m            Threshold on the size of arrays passed to the workers that\u001b[39;00m\n\u001b[0;32m   1044\u001b[0m \u001b[38;5;124;03m            triggers automated memory mapping in temp_folder. Can be an int\u001b[39;00m\n\u001b[0;32m   1045\u001b[0m \u001b[38;5;124;03m            in Bytes, or a human-readable string, e.g., '1M' for 1 megabyte.\u001b[39;00m\n\u001b[0;32m   1046\u001b[0m \u001b[38;5;124;03m            Use None to disable memmapping of large arrays.\u001b[39;00m\n\u001b[0;32m   1047\u001b[0m \u001b[38;5;124;03m            Only active when backend=\"loky\" or \"multiprocessing\".\u001b[39;00m\n\u001b[0;32m   1048\u001b[0m \u001b[38;5;124;03m        mmap_mode: {None, 'r+', 'r', 'w+', 'c'}, default: 'r'\u001b[39;00m\n\u001b[0;32m   1049\u001b[0m \u001b[38;5;124;03m            Memmapping mode for numpy arrays passed to workers. None will\u001b[39;00m\n\u001b[0;32m   1050\u001b[0m \u001b[38;5;124;03m            disable memmapping, other modes defined in the numpy.memmap doc:\u001b[39;00m\n\u001b[0;32m   1051\u001b[0m \u001b[38;5;124;03m            https://numpy.org/doc/stable/reference/generated/numpy.memmap.html\u001b[39;00m\n\u001b[0;32m   1052\u001b[0m \u001b[38;5;124;03m            Also, see 'max_nbytes' parameter documentation for more details.\u001b[39;00m\n\u001b[0;32m   1053\u001b[0m \n\u001b[0;32m   1054\u001b[0m \u001b[38;5;124;03m        Notes\u001b[39;00m\n\u001b[0;32m   1055\u001b[0m \u001b[38;5;124;03m        -----\u001b[39;00m\n\u001b[1;32m-> 1056\u001b[0m \n\u001b[0;32m   1057\u001b[0m \u001b[38;5;124;03m        This object uses workers to compute in parallel the application of a\u001b[39;00m\n\u001b[0;32m   1058\u001b[0m \u001b[38;5;124;03m        function to many different arguments. The main functionality it brings\u001b[39;00m\n\u001b[0;32m   1059\u001b[0m \u001b[38;5;124;03m        in addition to using the raw multiprocessing or concurrent.futures API\u001b[39;00m\n\u001b[0;32m   1060\u001b[0m \u001b[38;5;124;03m        are (see examples for details):\u001b[39;00m\n\u001b[0;32m   1061\u001b[0m \n\u001b[0;32m   1062\u001b[0m \u001b[38;5;124;03m        * More readable code, in particular since it avoids\u001b[39;00m\n\u001b[0;32m   1063\u001b[0m \u001b[38;5;124;03m          constructing list of arguments.\u001b[39;00m\n\u001b[0;32m   1064\u001b[0m \n\u001b[0;32m   1065\u001b[0m \u001b[38;5;124;03m        * Easier debugging:\u001b[39;00m\n\u001b[0;32m   1066\u001b[0m \u001b[38;5;124;03m            - informative tracebacks even when the error happens on\u001b[39;00m\n\u001b[0;32m   1067\u001b[0m \u001b[38;5;124;03m              the client side\u001b[39;00m\n\u001b[0;32m   1068\u001b[0m \u001b[38;5;124;03m            - using 'n_jobs=1' enables to turn off parallel computing\u001b[39;00m\n\u001b[0;32m   1069\u001b[0m \u001b[38;5;124;03m              for debugging without changing the codepath\u001b[39;00m\n\u001b[0;32m   1070\u001b[0m \u001b[38;5;124;03m            - early capture of pickling errors\u001b[39;00m\n\u001b[0;32m   1071\u001b[0m \n\u001b[0;32m   1072\u001b[0m \u001b[38;5;124;03m        * An optional progress meter.\u001b[39;00m\n\u001b[0;32m   1073\u001b[0m \n\u001b[0;32m   1074\u001b[0m \u001b[38;5;124;03m        * Interruption of multiprocesses jobs with 'Ctrl-C'\u001b[39;00m\n\u001b[0;32m   1075\u001b[0m \n\u001b[0;32m   1076\u001b[0m \u001b[38;5;124;03m        * Flexible pickling control for the communication to and from\u001b[39;00m\n\u001b[0;32m   1077\u001b[0m \u001b[38;5;124;03m          the worker processes.\u001b[39;00m\n\u001b[0;32m   1078\u001b[0m \n\u001b[0;32m   1079\u001b[0m \u001b[38;5;124;03m        * Ability to use shared memory efficiently with worker\u001b[39;00m\n\u001b[0;32m   1080\u001b[0m \u001b[38;5;124;03m          processes for large numpy-based datastructures.\u001b[39;00m\n\u001b[0;32m   1081\u001b[0m \n\u001b[0;32m   1082\u001b[0m \u001b[38;5;124;03m        Note that the intended usage is to run one call at a time. Multiple\u001b[39;00m\n\u001b[0;32m   1083\u001b[0m \u001b[38;5;124;03m        calls to the same Parallel object will result in a ``RuntimeError``\u001b[39;00m\n\u001b[0;32m   1084\u001b[0m \n\u001b[0;32m   1085\u001b[0m \u001b[38;5;124;03m        Examples\u001b[39;00m\n\u001b[0;32m   1086\u001b[0m \u001b[38;5;124;03m        --------\u001b[39;00m\n\u001b[0;32m   1087\u001b[0m \n\u001b[0;32m   1088\u001b[0m \u001b[38;5;124;03m        A simple example:\u001b[39;00m\n\u001b[0;32m   1089\u001b[0m \n\u001b[0;32m   1090\u001b[0m \u001b[38;5;124;03m        >>> from math import sqrt\u001b[39;00m\n\u001b[0;32m   1091\u001b[0m \u001b[38;5;124;03m        >>> from joblib import Parallel, delayed\u001b[39;00m\n\u001b[0;32m   1092\u001b[0m \u001b[38;5;124;03m        >>> Parallel(n_jobs=1)(delayed(sqrt)(i**2) for i in range(10))\u001b[39;00m\n\u001b[0;32m   1093\u001b[0m \u001b[38;5;124;03m        [0.0, 1.0, 2.0, 3.0, 4.0, 5.0, 6.0, 7.0, 8.0, 9.0]\u001b[39;00m\n\u001b[0;32m   1094\u001b[0m \n\u001b[0;32m   1095\u001b[0m \u001b[38;5;124;03m        Reshaping the output when the function has several return\u001b[39;00m\n\u001b[0;32m   1096\u001b[0m \u001b[38;5;124;03m        values:\u001b[39;00m\n\u001b[0;32m   1097\u001b[0m \n\u001b[0;32m   1098\u001b[0m \u001b[38;5;124;03m        >>> from math import modf\u001b[39;00m\n\u001b[0;32m   1099\u001b[0m \u001b[38;5;124;03m        >>> from joblib import Parallel, delayed\u001b[39;00m\n\u001b[0;32m   1100\u001b[0m \u001b[38;5;124;03m        >>> r = Parallel(n_jobs=1)(delayed(modf)(i/2.) for i in range(10))\u001b[39;00m\n\u001b[0;32m   1101\u001b[0m \u001b[38;5;124;03m        >>> res, i = zip(*r)\u001b[39;00m\n\u001b[0;32m   1102\u001b[0m \u001b[38;5;124;03m        >>> res\u001b[39;00m\n\u001b[0;32m   1103\u001b[0m \u001b[38;5;124;03m        (0.0, 0.5, 0.0, 0.5, 0.0, 0.5, 0.0, 0.5, 0.0, 0.5)\u001b[39;00m\n\u001b[0;32m   1104\u001b[0m \u001b[38;5;124;03m        >>> i\u001b[39;00m\n\u001b[0;32m   1105\u001b[0m \u001b[38;5;124;03m        (0.0, 0.0, 1.0, 1.0, 2.0, 2.0, 3.0, 3.0, 4.0, 4.0)\u001b[39;00m\n\u001b[0;32m   1106\u001b[0m \n\u001b[0;32m   1107\u001b[0m \u001b[38;5;124;03m        The progress meter: the higher the value of `verbose`, the more\u001b[39;00m\n\u001b[0;32m   1108\u001b[0m \u001b[38;5;124;03m        messages:\u001b[39;00m\n\u001b[0;32m   1109\u001b[0m \n\u001b[0;32m   1110\u001b[0m \u001b[38;5;124;03m        >>> from time import sleep\u001b[39;00m\n\u001b[0;32m   1111\u001b[0m \u001b[38;5;124;03m        >>> from joblib import Parallel, delayed\u001b[39;00m\n\u001b[0;32m   1112\u001b[0m \u001b[38;5;124;03m        >>> r = Parallel(n_jobs=2, verbose=10)(\u001b[39;00m\n\u001b[0;32m   1113\u001b[0m \u001b[38;5;124;03m        ...     delayed(sleep)(.2) for _ in range(10)) #doctest: +SKIP\u001b[39;00m\n\u001b[0;32m   1114\u001b[0m \u001b[38;5;124;03m        [Parallel(n_jobs=2)]: Done   1 tasks      | elapsed:    0.6s\u001b[39;00m\n\u001b[0;32m   1115\u001b[0m \u001b[38;5;124;03m        [Parallel(n_jobs=2)]: Done   4 tasks      | elapsed:    0.8s\u001b[39;00m\n\u001b[0;32m   1116\u001b[0m \u001b[38;5;124;03m        [Parallel(n_jobs=2)]: Done  10 out of  10 | elapsed:    1.4s finished\u001b[39;00m\n\u001b[0;32m   1117\u001b[0m \n\u001b[0;32m   1118\u001b[0m \u001b[38;5;124;03m        Traceback example, note how the line of the error is indicated\u001b[39;00m\n\u001b[0;32m   1119\u001b[0m \u001b[38;5;124;03m        as well as the values of the parameter passed to the function that\u001b[39;00m\n\u001b[0;32m   1120\u001b[0m \u001b[38;5;124;03m        triggered the exception, even though the traceback happens in the\u001b[39;00m\n\u001b[0;32m   1121\u001b[0m \u001b[38;5;124;03m        child process:\u001b[39;00m\n\u001b[0;32m   1122\u001b[0m \n\u001b[0;32m   1123\u001b[0m \u001b[38;5;124;03m        >>> from heapq import nlargest\u001b[39;00m\n\u001b[0;32m   1124\u001b[0m \u001b[38;5;124;03m        >>> from joblib import Parallel, delayed\u001b[39;00m\n\u001b[0;32m   1125\u001b[0m \u001b[38;5;124;03m        >>> Parallel(n_jobs=2)(\u001b[39;00m\n\u001b[0;32m   1126\u001b[0m \u001b[38;5;124;03m        ... delayed(nlargest)(2, n) for n in (range(4), 'abcde', 3))\u001b[39;00m\n\u001b[0;32m   1127\u001b[0m \u001b[38;5;124;03m        ... # doctest: +SKIP\u001b[39;00m\n\u001b[0;32m   1128\u001b[0m \u001b[38;5;124;03m        -----------------------------------------------------------------------\u001b[39;00m\n\u001b[0;32m   1129\u001b[0m \u001b[38;5;124;03m        Sub-process traceback:\u001b[39;00m\n\u001b[0;32m   1130\u001b[0m \u001b[38;5;124;03m        -----------------------------------------------------------------------\u001b[39;00m\n\u001b[0;32m   1131\u001b[0m \u001b[38;5;124;03m        TypeError                                      Mon Nov 12 11:37:46 2012\u001b[39;00m\n\u001b[0;32m   1132\u001b[0m \u001b[38;5;124;03m        PID: 12934                                Python 2.7.3: /usr/bin/python\u001b[39;00m\n\u001b[0;32m   1133\u001b[0m \u001b[38;5;124;03m        ........................................................................\u001b[39;00m\n\u001b[0;32m   1134\u001b[0m \u001b[38;5;124;03m        /usr/lib/python2.7/heapq.pyc in nlargest(n=2, iterable=3, key=None)\u001b[39;00m\n\u001b[0;32m   1135\u001b[0m \u001b[38;5;124;03m            419         if n >= size:\u001b[39;00m\n\u001b[0;32m   1136\u001b[0m \u001b[38;5;124;03m            420             return sorted(iterable, key=key, reverse=True)[:n]\u001b[39;00m\n\u001b[0;32m   1137\u001b[0m \u001b[38;5;124;03m            421\u001b[39;00m\n\u001b[0;32m   1138\u001b[0m \u001b[38;5;124;03m            422     # When key is none, use simpler decoration\u001b[39;00m\n\u001b[0;32m   1139\u001b[0m \u001b[38;5;124;03m            423     if key is None:\u001b[39;00m\n\u001b[0;32m   1140\u001b[0m \u001b[38;5;124;03m        --> 424         it = izip(iterable, count(0,-1))           # decorate\u001b[39;00m\n\u001b[0;32m   1141\u001b[0m \u001b[38;5;124;03m            425         result = _nlargest(n, it)\u001b[39;00m\n\u001b[0;32m   1142\u001b[0m \u001b[38;5;124;03m            426         return map(itemgetter(0), result)          # undecorate\u001b[39;00m\n\u001b[0;32m   1143\u001b[0m \u001b[38;5;124;03m            427\u001b[39;00m\n\u001b[0;32m   1144\u001b[0m \u001b[38;5;124;03m            428     # General case, slowest method\u001b[39;00m\n\u001b[0;32m   1145\u001b[0m \u001b[38;5;124;03m         TypeError: izip argument #1 must support iteration\u001b[39;00m\n\u001b[0;32m   1146\u001b[0m \u001b[38;5;124;03m        _______________________________________________________________________\u001b[39;00m\n\u001b[0;32m   1147\u001b[0m \n\u001b[0;32m   1148\u001b[0m \n\u001b[0;32m   1149\u001b[0m \u001b[38;5;124;03m        Using pre_dispatch in a producer/consumer situation, where the\u001b[39;00m\n\u001b[0;32m   1150\u001b[0m \u001b[38;5;124;03m        data is generated on the fly. Note how the producer is first\u001b[39;00m\n\u001b[0;32m   1151\u001b[0m \u001b[38;5;124;03m        called 3 times before the parallel loop is initiated, and then\u001b[39;00m\n\u001b[0;32m   1152\u001b[0m \u001b[38;5;124;03m        called to generate new data on the fly:\u001b[39;00m\n\u001b[0;32m   1153\u001b[0m \n\u001b[0;32m   1154\u001b[0m \u001b[38;5;124;03m        >>> from math import sqrt\u001b[39;00m\n\u001b[0;32m   1155\u001b[0m \u001b[38;5;124;03m        >>> from joblib import Parallel, delayed\u001b[39;00m\n\u001b[0;32m   1156\u001b[0m \u001b[38;5;124;03m        >>> def producer():\u001b[39;00m\n\u001b[0;32m   1157\u001b[0m \u001b[38;5;124;03m        ...     for i in range(6):\u001b[39;00m\n\u001b[0;32m   1158\u001b[0m \u001b[38;5;124;03m        ...         print('Produced %s' % i)\u001b[39;00m\n\u001b[0;32m   1159\u001b[0m \u001b[38;5;124;03m        ...         yield i\u001b[39;00m\n\u001b[0;32m   1160\u001b[0m \u001b[38;5;124;03m        >>> out = Parallel(n_jobs=2, verbose=100, pre_dispatch='1.5*n_jobs')(\u001b[39;00m\n\u001b[0;32m   1161\u001b[0m \u001b[38;5;124;03m        ...     delayed(sqrt)(i) for i in producer()) #doctest: +SKIP\u001b[39;00m\n\u001b[0;32m   1162\u001b[0m \u001b[38;5;124;03m        Produced 0\u001b[39;00m\n\u001b[0;32m   1163\u001b[0m \u001b[38;5;124;03m        Produced 1\u001b[39;00m\n\u001b[0;32m   1164\u001b[0m \u001b[38;5;124;03m        Produced 2\u001b[39;00m\n\u001b[0;32m   1165\u001b[0m \u001b[38;5;124;03m        [Parallel(n_jobs=2)]: Done 1 jobs     | elapsed:  0.0s\u001b[39;00m\n\u001b[0;32m   1166\u001b[0m \u001b[38;5;124;03m        Produced 3\u001b[39;00m\n\u001b[0;32m   1167\u001b[0m \u001b[38;5;124;03m        [Parallel(n_jobs=2)]: Done 2 jobs     | elapsed:  0.0s\u001b[39;00m\n\u001b[0;32m   1168\u001b[0m \u001b[38;5;124;03m        Produced 4\u001b[39;00m\n\u001b[0;32m   1169\u001b[0m \u001b[38;5;124;03m        [Parallel(n_jobs=2)]: Done 3 jobs     | elapsed:  0.0s\u001b[39;00m\n\u001b[0;32m   1170\u001b[0m \u001b[38;5;124;03m        Produced 5\u001b[39;00m\n\u001b[0;32m   1171\u001b[0m \u001b[38;5;124;03m        [Parallel(n_jobs=2)]: Done 4 jobs     | elapsed:  0.0s\u001b[39;00m\n\u001b[0;32m   1172\u001b[0m \u001b[38;5;124;03m        [Parallel(n_jobs=2)]: Done 6 out of 6 | elapsed:  0.0s remaining: 0.0s\u001b[39;00m\n\u001b[0;32m   1173\u001b[0m \u001b[38;5;124;03m        [Parallel(n_jobs=2)]: Done 6 out of 6 | elapsed:  0.0s finished\u001b[39;00m\n\u001b[0;32m   1174\u001b[0m \n\u001b[0;32m   1175\u001b[0m \u001b[38;5;124;03m    '''\u001b[39;00m\n\u001b[0;32m   1176\u001b[0m     \u001b[38;5;28;01mdef\u001b[39;00m \u001b[38;5;21m__init__\u001b[39m(\n\u001b[0;32m   1177\u001b[0m         \u001b[38;5;28mself\u001b[39m,\n\u001b[0;32m   1178\u001b[0m         n_jobs\u001b[38;5;241m=\u001b[39mdefault_parallel_config[\u001b[38;5;124m\"\u001b[39m\u001b[38;5;124mn_jobs\u001b[39m\u001b[38;5;124m\"\u001b[39m],\n\u001b[1;32m   (...)\u001b[0m\n\u001b[0;32m   1190\u001b[0m     ):\n\u001b[0;32m   1191\u001b[0m         \u001b[38;5;66;03m# Initiate parent Logger class state\u001b[39;00m\n\u001b[0;32m   1192\u001b[0m         \u001b[38;5;28msuper\u001b[39m()\u001b[38;5;241m.\u001b[39m\u001b[38;5;21m__init__\u001b[39m()\n",
      "File \u001b[1;32m~\\AppData\\Local\\Programs\\Python\\Python310\\lib\\site-packages\\joblib\\parallel.py:935\u001b[0m, in \u001b[0;36mretrieve\u001b[1;34m(self)\u001b[0m\n\u001b[0;32m    932\u001b[0m \u001b[38;5;28;01mclass\u001b[39;00m \u001b[38;5;21;01mParallel\u001b[39;00m(Logger):\n\u001b[0;32m    933\u001b[0m     \u001b[38;5;124;03m''' Helper class for readable parallel mapping.\u001b[39;00m\n\u001b[0;32m    934\u001b[0m \n\u001b[1;32m--> 935\u001b[0m \u001b[38;5;124;03m        Read more in the :ref:`User Guide <parallel>`.\u001b[39;00m\n\u001b[0;32m    936\u001b[0m \n\u001b[0;32m    937\u001b[0m \u001b[38;5;124;03m        Parameters\u001b[39;00m\n\u001b[0;32m    938\u001b[0m \u001b[38;5;124;03m        ----------\u001b[39;00m\n\u001b[0;32m    939\u001b[0m \u001b[38;5;124;03m        n_jobs: int, default: None\u001b[39;00m\n\u001b[0;32m    940\u001b[0m \u001b[38;5;124;03m            The maximum number of concurrently running jobs, such as the number\u001b[39;00m\n\u001b[0;32m    941\u001b[0m \u001b[38;5;124;03m            of Python worker processes when backend=\"multiprocessing\"\u001b[39;00m\n\u001b[0;32m    942\u001b[0m \u001b[38;5;124;03m            or the size of the thread-pool when backend=\"threading\".\u001b[39;00m\n\u001b[0;32m    943\u001b[0m \u001b[38;5;124;03m            If -1 all CPUs are used.\u001b[39;00m\n\u001b[0;32m    944\u001b[0m \u001b[38;5;124;03m            If 1 is given, no parallel computing code is used at all, and the\u001b[39;00m\n\u001b[0;32m    945\u001b[0m \u001b[38;5;124;03m            behavior amounts to a simple python `for` loop. This mode is not\u001b[39;00m\n\u001b[0;32m    946\u001b[0m \u001b[38;5;124;03m            compatible with `timeout`.\u001b[39;00m\n\u001b[0;32m    947\u001b[0m \u001b[38;5;124;03m            For n_jobs below -1, (n_cpus + 1 + n_jobs) are used. Thus for\u001b[39;00m\n\u001b[0;32m    948\u001b[0m \u001b[38;5;124;03m            n_jobs = -2, all CPUs but one are used.\u001b[39;00m\n\u001b[0;32m    949\u001b[0m \u001b[38;5;124;03m            None is a marker for 'unset' that will be interpreted as n_jobs=1\u001b[39;00m\n\u001b[0;32m    950\u001b[0m \u001b[38;5;124;03m            unless the call is performed under a :func:`~parallel_config`\u001b[39;00m\n\u001b[0;32m    951\u001b[0m \u001b[38;5;124;03m            context manager that sets another value for ``n_jobs``.\u001b[39;00m\n\u001b[0;32m    952\u001b[0m \u001b[38;5;124;03m        backend: str, ParallelBackendBase instance or None, default: 'loky'\u001b[39;00m\n\u001b[0;32m    953\u001b[0m \u001b[38;5;124;03m            Specify the parallelization backend implementation.\u001b[39;00m\n\u001b[0;32m    954\u001b[0m \u001b[38;5;124;03m            Supported backends are:\u001b[39;00m\n\u001b[0;32m    955\u001b[0m \n\u001b[0;32m    956\u001b[0m \u001b[38;5;124;03m            - \"loky\" used by default, can induce some\u001b[39;00m\n\u001b[0;32m    957\u001b[0m \u001b[38;5;124;03m              communication and memory overhead when exchanging input and\u001b[39;00m\n\u001b[0;32m    958\u001b[0m \u001b[38;5;124;03m              output data with the worker Python processes. On some rare\u001b[39;00m\n\u001b[0;32m    959\u001b[0m \u001b[38;5;124;03m              systems (such as Pyiodide), the loky backend may not be\u001b[39;00m\n\u001b[0;32m    960\u001b[0m \u001b[38;5;124;03m              available.\u001b[39;00m\n\u001b[0;32m    961\u001b[0m \u001b[38;5;124;03m            - \"multiprocessing\" previous process-based backend based on\u001b[39;00m\n\u001b[0;32m    962\u001b[0m \u001b[38;5;124;03m              `multiprocessing.Pool`. Less robust than `loky`.\u001b[39;00m\n\u001b[0;32m    963\u001b[0m \u001b[38;5;124;03m            - \"threading\" is a very low-overhead backend but it suffers\u001b[39;00m\n\u001b[0;32m    964\u001b[0m \u001b[38;5;124;03m              from the Python Global Interpreter Lock if the called function\u001b[39;00m\n\u001b[0;32m    965\u001b[0m \u001b[38;5;124;03m              relies a lot on Python objects. \"threading\" is mostly useful\u001b[39;00m\n\u001b[0;32m    966\u001b[0m \u001b[38;5;124;03m              when the execution bottleneck is a compiled extension that\u001b[39;00m\n\u001b[0;32m    967\u001b[0m \u001b[38;5;124;03m              explicitly releases the GIL (for instance a Cython loop wrapped\u001b[39;00m\n\u001b[0;32m    968\u001b[0m \u001b[38;5;124;03m              in a \"with nogil\" block or an expensive call to a library such\u001b[39;00m\n\u001b[0;32m    969\u001b[0m \u001b[38;5;124;03m              as NumPy).\u001b[39;00m\n\u001b[0;32m    970\u001b[0m \u001b[38;5;124;03m            - finally, you can register backends by calling\u001b[39;00m\n\u001b[0;32m    971\u001b[0m \u001b[38;5;124;03m              :func:`~register_parallel_backend`. This will allow you to\u001b[39;00m\n\u001b[0;32m    972\u001b[0m \u001b[38;5;124;03m              implement a backend of your liking.\u001b[39;00m\n\u001b[0;32m    973\u001b[0m \n\u001b[0;32m    974\u001b[0m \u001b[38;5;124;03m            It is not recommended to hard-code the backend name in a call to\u001b[39;00m\n\u001b[0;32m    975\u001b[0m \u001b[38;5;124;03m            :class:`~Parallel` in a library. Instead it is recommended to set\u001b[39;00m\n\u001b[0;32m    976\u001b[0m \u001b[38;5;124;03m            soft hints (prefer) or hard constraints (require) so as to make it\u001b[39;00m\n\u001b[0;32m    977\u001b[0m \u001b[38;5;124;03m            possible for library users to change the backend from the outside\u001b[39;00m\n\u001b[0;32m    978\u001b[0m \u001b[38;5;124;03m            using the :func:`~parallel_config` context manager.\u001b[39;00m\n\u001b[0;32m    979\u001b[0m \u001b[38;5;124;03m        return_as: str in {'list', 'generator'}, default: 'list'\u001b[39;00m\n\u001b[0;32m    980\u001b[0m \u001b[38;5;124;03m            If 'list', calls to this instance will return a list, only when\u001b[39;00m\n\u001b[0;32m    981\u001b[0m \u001b[38;5;124;03m            all results have been processed and retrieved.\u001b[39;00m\n\u001b[0;32m    982\u001b[0m \u001b[38;5;124;03m            If 'generator', it will return a generator that yields the results\u001b[39;00m\n\u001b[0;32m    983\u001b[0m \u001b[38;5;124;03m            as soon as they are available, in the order the tasks have been\u001b[39;00m\n\u001b[0;32m    984\u001b[0m \u001b[38;5;124;03m            submitted with.\u001b[39;00m\n\u001b[0;32m    985\u001b[0m \u001b[38;5;124;03m            Future releases are planned to also support 'generator_unordered',\u001b[39;00m\n\u001b[0;32m    986\u001b[0m \u001b[38;5;124;03m            in which case the generator immediately yields available results\u001b[39;00m\n\u001b[0;32m    987\u001b[0m \u001b[38;5;124;03m            independently of the submission order.\u001b[39;00m\n\u001b[0;32m    988\u001b[0m \u001b[38;5;124;03m        prefer: str in {'processes', 'threads'} or None, default: None\u001b[39;00m\n\u001b[0;32m    989\u001b[0m \u001b[38;5;124;03m            Soft hint to choose the default backend if no specific backend\u001b[39;00m\n\u001b[0;32m    990\u001b[0m \u001b[38;5;124;03m            was selected with the :func:`~parallel_config` context manager.\u001b[39;00m\n\u001b[0;32m    991\u001b[0m \u001b[38;5;124;03m            The default process-based backend is 'loky' and the default\u001b[39;00m\n\u001b[0;32m    992\u001b[0m \u001b[38;5;124;03m            thread-based backend is 'threading'. Ignored if the ``backend``\u001b[39;00m\n\u001b[0;32m    993\u001b[0m \u001b[38;5;124;03m            parameter is specified.\u001b[39;00m\n\u001b[0;32m    994\u001b[0m \u001b[38;5;124;03m        require: 'sharedmem' or None, default None\u001b[39;00m\n\u001b[0;32m    995\u001b[0m \u001b[38;5;124;03m            Hard constraint to select the backend. If set to 'sharedmem',\u001b[39;00m\n\u001b[0;32m    996\u001b[0m \u001b[38;5;124;03m            the selected backend will be single-host and thread-based even\u001b[39;00m\n\u001b[0;32m    997\u001b[0m \u001b[38;5;124;03m            if the user asked for a non-thread based backend with\u001b[39;00m\n\u001b[0;32m    998\u001b[0m \u001b[38;5;124;03m            :func:`~joblib.parallel_config`.\u001b[39;00m\n\u001b[0;32m    999\u001b[0m \u001b[38;5;124;03m        verbose: int, optional\u001b[39;00m\n\u001b[0;32m   1000\u001b[0m \u001b[38;5;124;03m            The verbosity level: if non zero, progress messages are\u001b[39;00m\n\u001b[0;32m   1001\u001b[0m \u001b[38;5;124;03m            printed. Above 50, the output is sent to stdout.\u001b[39;00m\n\u001b[0;32m   1002\u001b[0m \u001b[38;5;124;03m            The frequency of the messages increases with the verbosity level.\u001b[39;00m\n\u001b[0;32m   1003\u001b[0m \u001b[38;5;124;03m            If it more than 10, all iterations are reported.\u001b[39;00m\n\u001b[0;32m   1004\u001b[0m \u001b[38;5;124;03m        timeout: float, optional\u001b[39;00m\n\u001b[0;32m   1005\u001b[0m \u001b[38;5;124;03m            Timeout limit for each task to complete.  If any task takes longer\u001b[39;00m\n\u001b[0;32m   1006\u001b[0m \u001b[38;5;124;03m            a TimeOutError will be raised. Only applied when n_jobs != 1\u001b[39;00m\n\u001b[0;32m   1007\u001b[0m \u001b[38;5;124;03m        pre_dispatch: {'all', integer, or expression, as in '3*n_jobs'}\u001b[39;00m\n\u001b[0;32m   1008\u001b[0m \u001b[38;5;124;03m            The number of batches (of tasks) to be pre-dispatched.\u001b[39;00m\n\u001b[0;32m   1009\u001b[0m \u001b[38;5;124;03m            Default is '2*n_jobs'. When batch_size=\"auto\" this is reasonable\u001b[39;00m\n\u001b[0;32m   1010\u001b[0m \u001b[38;5;124;03m            default and the workers should never starve. Note that only basic\u001b[39;00m\n\u001b[0;32m   1011\u001b[0m \u001b[38;5;124;03m            arithmetics are allowed here and no modules can be used in this\u001b[39;00m\n\u001b[0;32m   1012\u001b[0m \u001b[38;5;124;03m            expression.\u001b[39;00m\n\u001b[0;32m   1013\u001b[0m \u001b[38;5;124;03m        batch_size: int or 'auto', default: 'auto'\u001b[39;00m\n\u001b[0;32m   1014\u001b[0m \u001b[38;5;124;03m            The number of atomic tasks to dispatch at once to each\u001b[39;00m\n\u001b[0;32m   1015\u001b[0m \u001b[38;5;124;03m            worker. When individual evaluations are very fast, dispatching\u001b[39;00m\n\u001b[0;32m   1016\u001b[0m \u001b[38;5;124;03m            calls to workers can be slower than sequential computation because\u001b[39;00m\n\u001b[0;32m   1017\u001b[0m \u001b[38;5;124;03m            of the overhead. Batching fast computations together can mitigate\u001b[39;00m\n\u001b[0;32m   1018\u001b[0m \u001b[38;5;124;03m            this.\u001b[39;00m\n\u001b[0;32m   1019\u001b[0m \u001b[38;5;124;03m            The ``'auto'`` strategy keeps track of the time it takes for a\u001b[39;00m\n\u001b[0;32m   1020\u001b[0m \u001b[38;5;124;03m            batch to complete, and dynamically adjusts the batch size to keep\u001b[39;00m\n\u001b[0;32m   1021\u001b[0m \u001b[38;5;124;03m            the time on the order of half a second, using a heuristic. The\u001b[39;00m\n\u001b[0;32m   1022\u001b[0m \u001b[38;5;124;03m            initial batch size is 1.\u001b[39;00m\n\u001b[0;32m   1023\u001b[0m \u001b[38;5;124;03m            ``batch_size=\"auto\"`` with ``backend=\"threading\"`` will dispatch\u001b[39;00m\n\u001b[0;32m   1024\u001b[0m \u001b[38;5;124;03m            batches of a single task at a time as the threading backend has\u001b[39;00m\n\u001b[0;32m   1025\u001b[0m \u001b[38;5;124;03m            very little overhead and using larger batch size has not proved to\u001b[39;00m\n\u001b[0;32m   1026\u001b[0m \u001b[38;5;124;03m            bring any gain in that case.\u001b[39;00m\n\u001b[0;32m   1027\u001b[0m \u001b[38;5;124;03m        temp_folder: str, optional\u001b[39;00m\n\u001b[0;32m   1028\u001b[0m \u001b[38;5;124;03m            Folder to be used by the pool for memmapping large arrays\u001b[39;00m\n\u001b[0;32m   1029\u001b[0m \u001b[38;5;124;03m            for sharing memory with worker processes. If None, this will try in\u001b[39;00m\n\u001b[0;32m   1030\u001b[0m \u001b[38;5;124;03m            order:\u001b[39;00m\n\u001b[0;32m   1031\u001b[0m \n\u001b[0;32m   1032\u001b[0m \u001b[38;5;124;03m            - a folder pointed by the JOBLIB_TEMP_FOLDER environment\u001b[39;00m\n\u001b[0;32m   1033\u001b[0m \u001b[38;5;124;03m              variable,\u001b[39;00m\n\u001b[0;32m   1034\u001b[0m \u001b[38;5;124;03m            - /dev/shm if the folder exists and is writable: this is a\u001b[39;00m\n\u001b[0;32m   1035\u001b[0m \u001b[38;5;124;03m              RAM disk filesystem available by default on modern Linux\u001b[39;00m\n\u001b[0;32m   1036\u001b[0m \u001b[38;5;124;03m              distributions,\u001b[39;00m\n\u001b[0;32m   1037\u001b[0m \u001b[38;5;124;03m            - the default system temporary folder that can be\u001b[39;00m\n\u001b[0;32m   1038\u001b[0m \u001b[38;5;124;03m              overridden with TMP, TMPDIR or TEMP environment\u001b[39;00m\n\u001b[0;32m   1039\u001b[0m \u001b[38;5;124;03m              variables, typically /tmp under Unix operating systems.\u001b[39;00m\n\u001b[0;32m   1040\u001b[0m \n\u001b[0;32m   1041\u001b[0m \u001b[38;5;124;03m            Only active when backend=\"loky\" or \"multiprocessing\".\u001b[39;00m\n\u001b[0;32m   1042\u001b[0m \u001b[38;5;124;03m        max_nbytes int, str, or None, optional, 1M by default\u001b[39;00m\n\u001b[0;32m   1043\u001b[0m \u001b[38;5;124;03m            Threshold on the size of arrays passed to the workers that\u001b[39;00m\n\u001b[0;32m   1044\u001b[0m \u001b[38;5;124;03m            triggers automated memory mapping in temp_folder. Can be an int\u001b[39;00m\n\u001b[0;32m   1045\u001b[0m \u001b[38;5;124;03m            in Bytes, or a human-readable string, e.g., '1M' for 1 megabyte.\u001b[39;00m\n\u001b[0;32m   1046\u001b[0m \u001b[38;5;124;03m            Use None to disable memmapping of large arrays.\u001b[39;00m\n\u001b[0;32m   1047\u001b[0m \u001b[38;5;124;03m            Only active when backend=\"loky\" or \"multiprocessing\".\u001b[39;00m\n\u001b[0;32m   1048\u001b[0m \u001b[38;5;124;03m        mmap_mode: {None, 'r+', 'r', 'w+', 'c'}, default: 'r'\u001b[39;00m\n\u001b[0;32m   1049\u001b[0m \u001b[38;5;124;03m            Memmapping mode for numpy arrays passed to workers. None will\u001b[39;00m\n\u001b[0;32m   1050\u001b[0m \u001b[38;5;124;03m            disable memmapping, other modes defined in the numpy.memmap doc:\u001b[39;00m\n\u001b[0;32m   1051\u001b[0m \u001b[38;5;124;03m            https://numpy.org/doc/stable/reference/generated/numpy.memmap.html\u001b[39;00m\n\u001b[0;32m   1052\u001b[0m \u001b[38;5;124;03m            Also, see 'max_nbytes' parameter documentation for more details.\u001b[39;00m\n\u001b[0;32m   1053\u001b[0m \n\u001b[0;32m   1054\u001b[0m \u001b[38;5;124;03m        Notes\u001b[39;00m\n\u001b[0;32m   1055\u001b[0m \u001b[38;5;124;03m        -----\u001b[39;00m\n\u001b[0;32m   1056\u001b[0m \n\u001b[0;32m   1057\u001b[0m \u001b[38;5;124;03m        This object uses workers to compute in parallel the application of a\u001b[39;00m\n\u001b[0;32m   1058\u001b[0m \u001b[38;5;124;03m        function to many different arguments. The main functionality it brings\u001b[39;00m\n\u001b[0;32m   1059\u001b[0m \u001b[38;5;124;03m        in addition to using the raw multiprocessing or concurrent.futures API\u001b[39;00m\n\u001b[0;32m   1060\u001b[0m \u001b[38;5;124;03m        are (see examples for details):\u001b[39;00m\n\u001b[0;32m   1061\u001b[0m \n\u001b[0;32m   1062\u001b[0m \u001b[38;5;124;03m        * More readable code, in particular since it avoids\u001b[39;00m\n\u001b[0;32m   1063\u001b[0m \u001b[38;5;124;03m          constructing list of arguments.\u001b[39;00m\n\u001b[0;32m   1064\u001b[0m \n\u001b[0;32m   1065\u001b[0m \u001b[38;5;124;03m        * Easier debugging:\u001b[39;00m\n\u001b[0;32m   1066\u001b[0m \u001b[38;5;124;03m            - informative tracebacks even when the error happens on\u001b[39;00m\n\u001b[0;32m   1067\u001b[0m \u001b[38;5;124;03m              the client side\u001b[39;00m\n\u001b[0;32m   1068\u001b[0m \u001b[38;5;124;03m            - using 'n_jobs=1' enables to turn off parallel computing\u001b[39;00m\n\u001b[0;32m   1069\u001b[0m \u001b[38;5;124;03m              for debugging without changing the codepath\u001b[39;00m\n\u001b[0;32m   1070\u001b[0m \u001b[38;5;124;03m            - early capture of pickling errors\u001b[39;00m\n\u001b[0;32m   1071\u001b[0m \n\u001b[0;32m   1072\u001b[0m \u001b[38;5;124;03m        * An optional progress meter.\u001b[39;00m\n\u001b[0;32m   1073\u001b[0m \n\u001b[0;32m   1074\u001b[0m \u001b[38;5;124;03m        * Interruption of multiprocesses jobs with 'Ctrl-C'\u001b[39;00m\n\u001b[0;32m   1075\u001b[0m \n\u001b[0;32m   1076\u001b[0m \u001b[38;5;124;03m        * Flexible pickling control for the communication to and from\u001b[39;00m\n\u001b[0;32m   1077\u001b[0m \u001b[38;5;124;03m          the worker processes.\u001b[39;00m\n\u001b[0;32m   1078\u001b[0m \n\u001b[0;32m   1079\u001b[0m \u001b[38;5;124;03m        * Ability to use shared memory efficiently with worker\u001b[39;00m\n\u001b[0;32m   1080\u001b[0m \u001b[38;5;124;03m          processes for large numpy-based datastructures.\u001b[39;00m\n\u001b[0;32m   1081\u001b[0m \n\u001b[0;32m   1082\u001b[0m \u001b[38;5;124;03m        Note that the intended usage is to run one call at a time. Multiple\u001b[39;00m\n\u001b[0;32m   1083\u001b[0m \u001b[38;5;124;03m        calls to the same Parallel object will result in a ``RuntimeError``\u001b[39;00m\n\u001b[0;32m   1084\u001b[0m \n\u001b[0;32m   1085\u001b[0m \u001b[38;5;124;03m        Examples\u001b[39;00m\n\u001b[0;32m   1086\u001b[0m \u001b[38;5;124;03m        --------\u001b[39;00m\n\u001b[0;32m   1087\u001b[0m \n\u001b[0;32m   1088\u001b[0m \u001b[38;5;124;03m        A simple example:\u001b[39;00m\n\u001b[0;32m   1089\u001b[0m \n\u001b[0;32m   1090\u001b[0m \u001b[38;5;124;03m        >>> from math import sqrt\u001b[39;00m\n\u001b[0;32m   1091\u001b[0m \u001b[38;5;124;03m        >>> from joblib import Parallel, delayed\u001b[39;00m\n\u001b[0;32m   1092\u001b[0m \u001b[38;5;124;03m        >>> Parallel(n_jobs=1)(delayed(sqrt)(i**2) for i in range(10))\u001b[39;00m\n\u001b[0;32m   1093\u001b[0m \u001b[38;5;124;03m        [0.0, 1.0, 2.0, 3.0, 4.0, 5.0, 6.0, 7.0, 8.0, 9.0]\u001b[39;00m\n\u001b[0;32m   1094\u001b[0m \n\u001b[0;32m   1095\u001b[0m \u001b[38;5;124;03m        Reshaping the output when the function has several return\u001b[39;00m\n\u001b[0;32m   1096\u001b[0m \u001b[38;5;124;03m        values:\u001b[39;00m\n\u001b[0;32m   1097\u001b[0m \n\u001b[0;32m   1098\u001b[0m \u001b[38;5;124;03m        >>> from math import modf\u001b[39;00m\n\u001b[0;32m   1099\u001b[0m \u001b[38;5;124;03m        >>> from joblib import Parallel, delayed\u001b[39;00m\n\u001b[0;32m   1100\u001b[0m \u001b[38;5;124;03m        >>> r = Parallel(n_jobs=1)(delayed(modf)(i/2.) for i in range(10))\u001b[39;00m\n\u001b[0;32m   1101\u001b[0m \u001b[38;5;124;03m        >>> res, i = zip(*r)\u001b[39;00m\n\u001b[0;32m   1102\u001b[0m \u001b[38;5;124;03m        >>> res\u001b[39;00m\n\u001b[0;32m   1103\u001b[0m \u001b[38;5;124;03m        (0.0, 0.5, 0.0, 0.5, 0.0, 0.5, 0.0, 0.5, 0.0, 0.5)\u001b[39;00m\n\u001b[0;32m   1104\u001b[0m \u001b[38;5;124;03m        >>> i\u001b[39;00m\n\u001b[0;32m   1105\u001b[0m \u001b[38;5;124;03m        (0.0, 0.0, 1.0, 1.0, 2.0, 2.0, 3.0, 3.0, 4.0, 4.0)\u001b[39;00m\n\u001b[0;32m   1106\u001b[0m \n\u001b[0;32m   1107\u001b[0m \u001b[38;5;124;03m        The progress meter: the higher the value of `verbose`, the more\u001b[39;00m\n\u001b[0;32m   1108\u001b[0m \u001b[38;5;124;03m        messages:\u001b[39;00m\n\u001b[0;32m   1109\u001b[0m \n\u001b[0;32m   1110\u001b[0m \u001b[38;5;124;03m        >>> from time import sleep\u001b[39;00m\n\u001b[0;32m   1111\u001b[0m \u001b[38;5;124;03m        >>> from joblib import Parallel, delayed\u001b[39;00m\n\u001b[0;32m   1112\u001b[0m \u001b[38;5;124;03m        >>> r = Parallel(n_jobs=2, verbose=10)(\u001b[39;00m\n\u001b[0;32m   1113\u001b[0m \u001b[38;5;124;03m        ...     delayed(sleep)(.2) for _ in range(10)) #doctest: +SKIP\u001b[39;00m\n\u001b[0;32m   1114\u001b[0m \u001b[38;5;124;03m        [Parallel(n_jobs=2)]: Done   1 tasks      | elapsed:    0.6s\u001b[39;00m\n\u001b[0;32m   1115\u001b[0m \u001b[38;5;124;03m        [Parallel(n_jobs=2)]: Done   4 tasks      | elapsed:    0.8s\u001b[39;00m\n\u001b[0;32m   1116\u001b[0m \u001b[38;5;124;03m        [Parallel(n_jobs=2)]: Done  10 out of  10 | elapsed:    1.4s finished\u001b[39;00m\n\u001b[0;32m   1117\u001b[0m \n\u001b[0;32m   1118\u001b[0m \u001b[38;5;124;03m        Traceback example, note how the line of the error is indicated\u001b[39;00m\n\u001b[0;32m   1119\u001b[0m \u001b[38;5;124;03m        as well as the values of the parameter passed to the function that\u001b[39;00m\n\u001b[0;32m   1120\u001b[0m \u001b[38;5;124;03m        triggered the exception, even though the traceback happens in the\u001b[39;00m\n\u001b[0;32m   1121\u001b[0m \u001b[38;5;124;03m        child process:\u001b[39;00m\n\u001b[0;32m   1122\u001b[0m \n\u001b[0;32m   1123\u001b[0m \u001b[38;5;124;03m        >>> from heapq import nlargest\u001b[39;00m\n\u001b[0;32m   1124\u001b[0m \u001b[38;5;124;03m        >>> from joblib import Parallel, delayed\u001b[39;00m\n\u001b[0;32m   1125\u001b[0m \u001b[38;5;124;03m        >>> Parallel(n_jobs=2)(\u001b[39;00m\n\u001b[0;32m   1126\u001b[0m \u001b[38;5;124;03m        ... delayed(nlargest)(2, n) for n in (range(4), 'abcde', 3))\u001b[39;00m\n\u001b[0;32m   1127\u001b[0m \u001b[38;5;124;03m        ... # doctest: +SKIP\u001b[39;00m\n\u001b[0;32m   1128\u001b[0m \u001b[38;5;124;03m        -----------------------------------------------------------------------\u001b[39;00m\n\u001b[0;32m   1129\u001b[0m \u001b[38;5;124;03m        Sub-process traceback:\u001b[39;00m\n\u001b[0;32m   1130\u001b[0m \u001b[38;5;124;03m        -----------------------------------------------------------------------\u001b[39;00m\n\u001b[0;32m   1131\u001b[0m \u001b[38;5;124;03m        TypeError                                      Mon Nov 12 11:37:46 2012\u001b[39;00m\n\u001b[0;32m   1132\u001b[0m \u001b[38;5;124;03m        PID: 12934                                Python 2.7.3: /usr/bin/python\u001b[39;00m\n\u001b[0;32m   1133\u001b[0m \u001b[38;5;124;03m        ........................................................................\u001b[39;00m\n\u001b[0;32m   1134\u001b[0m \u001b[38;5;124;03m        /usr/lib/python2.7/heapq.pyc in nlargest(n=2, iterable=3, key=None)\u001b[39;00m\n\u001b[0;32m   1135\u001b[0m \u001b[38;5;124;03m            419         if n >= size:\u001b[39;00m\n\u001b[0;32m   1136\u001b[0m \u001b[38;5;124;03m            420             return sorted(iterable, key=key, reverse=True)[:n]\u001b[39;00m\n\u001b[0;32m   1137\u001b[0m \u001b[38;5;124;03m            421\u001b[39;00m\n\u001b[0;32m   1138\u001b[0m \u001b[38;5;124;03m            422     # When key is none, use simpler decoration\u001b[39;00m\n\u001b[0;32m   1139\u001b[0m \u001b[38;5;124;03m            423     if key is None:\u001b[39;00m\n\u001b[0;32m   1140\u001b[0m \u001b[38;5;124;03m        --> 424         it = izip(iterable, count(0,-1))           # decorate\u001b[39;00m\n\u001b[0;32m   1141\u001b[0m \u001b[38;5;124;03m            425         result = _nlargest(n, it)\u001b[39;00m\n\u001b[0;32m   1142\u001b[0m \u001b[38;5;124;03m            426         return map(itemgetter(0), result)          # undecorate\u001b[39;00m\n\u001b[0;32m   1143\u001b[0m \u001b[38;5;124;03m            427\u001b[39;00m\n\u001b[0;32m   1144\u001b[0m \u001b[38;5;124;03m            428     # General case, slowest method\u001b[39;00m\n\u001b[0;32m   1145\u001b[0m \u001b[38;5;124;03m         TypeError: izip argument #1 must support iteration\u001b[39;00m\n\u001b[0;32m   1146\u001b[0m \u001b[38;5;124;03m        _______________________________________________________________________\u001b[39;00m\n\u001b[0;32m   1147\u001b[0m \n\u001b[0;32m   1148\u001b[0m \n\u001b[0;32m   1149\u001b[0m \u001b[38;5;124;03m        Using pre_dispatch in a producer/consumer situation, where the\u001b[39;00m\n\u001b[0;32m   1150\u001b[0m \u001b[38;5;124;03m        data is generated on the fly. Note how the producer is first\u001b[39;00m\n\u001b[0;32m   1151\u001b[0m \u001b[38;5;124;03m        called 3 times before the parallel loop is initiated, and then\u001b[39;00m\n\u001b[0;32m   1152\u001b[0m \u001b[38;5;124;03m        called to generate new data on the fly:\u001b[39;00m\n\u001b[0;32m   1153\u001b[0m \n\u001b[0;32m   1154\u001b[0m \u001b[38;5;124;03m        >>> from math import sqrt\u001b[39;00m\n\u001b[0;32m   1155\u001b[0m \u001b[38;5;124;03m        >>> from joblib import Parallel, delayed\u001b[39;00m\n\u001b[0;32m   1156\u001b[0m \u001b[38;5;124;03m        >>> def producer():\u001b[39;00m\n\u001b[0;32m   1157\u001b[0m \u001b[38;5;124;03m        ...     for i in range(6):\u001b[39;00m\n\u001b[0;32m   1158\u001b[0m \u001b[38;5;124;03m        ...         print('Produced %s' % i)\u001b[39;00m\n\u001b[0;32m   1159\u001b[0m \u001b[38;5;124;03m        ...         yield i\u001b[39;00m\n\u001b[0;32m   1160\u001b[0m \u001b[38;5;124;03m        >>> out = Parallel(n_jobs=2, verbose=100, pre_dispatch='1.5*n_jobs')(\u001b[39;00m\n\u001b[0;32m   1161\u001b[0m \u001b[38;5;124;03m        ...     delayed(sqrt)(i) for i in producer()) #doctest: +SKIP\u001b[39;00m\n\u001b[0;32m   1162\u001b[0m \u001b[38;5;124;03m        Produced 0\u001b[39;00m\n\u001b[0;32m   1163\u001b[0m \u001b[38;5;124;03m        Produced 1\u001b[39;00m\n\u001b[0;32m   1164\u001b[0m \u001b[38;5;124;03m        Produced 2\u001b[39;00m\n\u001b[0;32m   1165\u001b[0m \u001b[38;5;124;03m        [Parallel(n_jobs=2)]: Done 1 jobs     | elapsed:  0.0s\u001b[39;00m\n\u001b[0;32m   1166\u001b[0m \u001b[38;5;124;03m        Produced 3\u001b[39;00m\n\u001b[0;32m   1167\u001b[0m \u001b[38;5;124;03m        [Parallel(n_jobs=2)]: Done 2 jobs     | elapsed:  0.0s\u001b[39;00m\n\u001b[0;32m   1168\u001b[0m \u001b[38;5;124;03m        Produced 4\u001b[39;00m\n\u001b[0;32m   1169\u001b[0m \u001b[38;5;124;03m        [Parallel(n_jobs=2)]: Done 3 jobs     | elapsed:  0.0s\u001b[39;00m\n\u001b[0;32m   1170\u001b[0m \u001b[38;5;124;03m        Produced 5\u001b[39;00m\n\u001b[0;32m   1171\u001b[0m \u001b[38;5;124;03m        [Parallel(n_jobs=2)]: Done 4 jobs     | elapsed:  0.0s\u001b[39;00m\n\u001b[0;32m   1172\u001b[0m \u001b[38;5;124;03m        [Parallel(n_jobs=2)]: Done 6 out of 6 | elapsed:  0.0s remaining: 0.0s\u001b[39;00m\n\u001b[0;32m   1173\u001b[0m \u001b[38;5;124;03m        [Parallel(n_jobs=2)]: Done 6 out of 6 | elapsed:  0.0s finished\u001b[39;00m\n\u001b[0;32m   1174\u001b[0m \n\u001b[0;32m   1175\u001b[0m \u001b[38;5;124;03m    '''\u001b[39;00m\n\u001b[0;32m   1176\u001b[0m     \u001b[38;5;28;01mdef\u001b[39;00m \u001b[38;5;21m__init__\u001b[39m(\n\u001b[0;32m   1177\u001b[0m         \u001b[38;5;28mself\u001b[39m,\n\u001b[0;32m   1178\u001b[0m         n_jobs\u001b[38;5;241m=\u001b[39mdefault_parallel_config[\u001b[38;5;124m\"\u001b[39m\u001b[38;5;124mn_jobs\u001b[39m\u001b[38;5;124m\"\u001b[39m],\n\u001b[1;32m   (...)\u001b[0m\n\u001b[0;32m   1190\u001b[0m     ):\n\u001b[0;32m   1191\u001b[0m         \u001b[38;5;66;03m# Initiate parent Logger class state\u001b[39;00m\n\u001b[0;32m   1192\u001b[0m         \u001b[38;5;28msuper\u001b[39m()\u001b[38;5;241m.\u001b[39m\u001b[38;5;21m__init__\u001b[39m()\n",
      "File \u001b[1;32m~\\AppData\\Local\\Programs\\Python\\Python310\\lib\\site-packages\\joblib\\_parallel_backends.py:542\u001b[0m, in \u001b[0;36mwrap_future_result\u001b[1;34m(future, timeout)\u001b[0m\n\u001b[0;32m    539\u001b[0m supports_retrieve_callback \u001b[38;5;241m=\u001b[39m \u001b[38;5;28;01mTrue\u001b[39;00m\n\u001b[0;32m    540\u001b[0m supports_inner_max_num_threads \u001b[38;5;241m=\u001b[39m \u001b[38;5;28;01mTrue\u001b[39;00m\n\u001b[1;32m--> 542\u001b[0m \u001b[38;5;28;01mdef\u001b[39;00m \u001b[38;5;21mconfigure\u001b[39m(\u001b[38;5;28mself\u001b[39m, n_jobs\u001b[38;5;241m=\u001b[39m\u001b[38;5;241m1\u001b[39m, parallel\u001b[38;5;241m=\u001b[39m\u001b[38;5;28;01mNone\u001b[39;00m, prefer\u001b[38;5;241m=\u001b[39m\u001b[38;5;28;01mNone\u001b[39;00m, require\u001b[38;5;241m=\u001b[39m\u001b[38;5;28;01mNone\u001b[39;00m,\n\u001b[0;32m    543\u001b[0m               idle_worker_timeout\u001b[38;5;241m=\u001b[39m\u001b[38;5;241m300\u001b[39m, \u001b[38;5;241m*\u001b[39m\u001b[38;5;241m*\u001b[39mmemmappingexecutor_args):\n\u001b[0;32m    544\u001b[0m     \u001b[38;5;124;03m\"\"\"Build a process executor and return the number of workers\"\"\"\u001b[39;00m\n\u001b[0;32m    545\u001b[0m     n_jobs \u001b[38;5;241m=\u001b[39m \u001b[38;5;28mself\u001b[39m\u001b[38;5;241m.\u001b[39meffective_n_jobs(n_jobs)\n",
      "File \u001b[1;32m~\\AppData\\Local\\Programs\\Python\\Python310\\lib\\concurrent\\futures\\_base.py:445\u001b[0m, in \u001b[0;36mFuture.result\u001b[1;34m(self, timeout)\u001b[0m\n\u001b[0;32m    443\u001b[0m     \u001b[38;5;28;01mraise\u001b[39;00m CancelledError()\n\u001b[0;32m    444\u001b[0m \u001b[38;5;28;01melif\u001b[39;00m \u001b[38;5;28mself\u001b[39m\u001b[38;5;241m.\u001b[39m_state \u001b[38;5;241m==\u001b[39m FINISHED:\n\u001b[1;32m--> 445\u001b[0m     \u001b[38;5;28;01mreturn\u001b[39;00m \u001b[38;5;28;43mself\u001b[39;49m\u001b[38;5;241;43m.\u001b[39;49m\u001b[43m__get_result\u001b[49m\u001b[43m(\u001b[49m\u001b[43m)\u001b[49m\n\u001b[0;32m    446\u001b[0m \u001b[38;5;28;01melse\u001b[39;00m:\n\u001b[0;32m    447\u001b[0m     \u001b[38;5;28;01mraise\u001b[39;00m \u001b[38;5;167;01mTimeoutError\u001b[39;00m()\n",
      "File \u001b[1;32m~\\AppData\\Local\\Programs\\Python\\Python310\\lib\\concurrent\\futures\\_base.py:390\u001b[0m, in \u001b[0;36mFuture.__get_result\u001b[1;34m(self)\u001b[0m\n\u001b[0;32m    388\u001b[0m \u001b[38;5;28;01mif\u001b[39;00m \u001b[38;5;28mself\u001b[39m\u001b[38;5;241m.\u001b[39m_exception:\n\u001b[0;32m    389\u001b[0m     \u001b[38;5;28;01mtry\u001b[39;00m:\n\u001b[1;32m--> 390\u001b[0m         \u001b[38;5;28;01mraise\u001b[39;00m \u001b[38;5;28mself\u001b[39m\u001b[38;5;241m.\u001b[39m_exception\n\u001b[0;32m    391\u001b[0m     \u001b[38;5;28;01mfinally\u001b[39;00m:\n\u001b[0;32m    392\u001b[0m         \u001b[38;5;66;03m# Break a reference cycle with the exception in self._exception\u001b[39;00m\n\u001b[0;32m    393\u001b[0m         \u001b[38;5;28mself\u001b[39m \u001b[38;5;241m=\u001b[39m \u001b[38;5;28;01mNone\u001b[39;00m\n",
      "File \u001b[1;32m~\\AppData\\Local\\Programs\\Python\\Python310\\lib\\site-packages\\joblib\\externals\\loky\\_base.py:625\u001b[0m, in \u001b[0;36m_invoke_callbacks\u001b[1;34m(self)\u001b[0m\n",
      "File \u001b[1;32m~\\AppData\\Local\\Programs\\Python\\Python310\\lib\\site-packages\\joblib\\parallel.py:359\u001b[0m, in \u001b[0;36m__call__\u001b[1;34m(self, out)\u001b[0m\n\u001b[0;32m    217\u001b[0m \u001b[38;5;28;01mclass\u001b[39;00m \u001b[38;5;21;01mparallel_config\u001b[39;00m:\n\u001b[0;32m    218\u001b[0m     \u001b[38;5;124;03m\"\"\"Set the default backend or configuration for :class:`~joblib.Parallel`.\u001b[39;00m\n\u001b[0;32m    219\u001b[0m \n\u001b[0;32m    220\u001b[0m \u001b[38;5;124;03m    This is an alternative to directly passing keyword arguments to the\u001b[39;00m\n\u001b[1;32m   (...)\u001b[0m\n\u001b[0;32m    345\u001b[0m \n\u001b[0;32m    346\u001b[0m \u001b[38;5;124;03m    \"\"\"\u001b[39;00m\n\u001b[0;32m    347\u001b[0m     \u001b[38;5;28;01mdef\u001b[39;00m \u001b[38;5;21m__init__\u001b[39m(\n\u001b[0;32m    348\u001b[0m         \u001b[38;5;28mself\u001b[39m,\n\u001b[0;32m    349\u001b[0m         backend\u001b[38;5;241m=\u001b[39mdefault_parallel_config[\u001b[38;5;124m\"\u001b[39m\u001b[38;5;124mbackend\u001b[39m\u001b[38;5;124m\"\u001b[39m],\n\u001b[0;32m    350\u001b[0m         \u001b[38;5;241m*\u001b[39m,\n\u001b[0;32m    351\u001b[0m         n_jobs\u001b[38;5;241m=\u001b[39mdefault_parallel_config[\u001b[38;5;124m\"\u001b[39m\u001b[38;5;124mn_jobs\u001b[39m\u001b[38;5;124m\"\u001b[39m],\n\u001b[0;32m    352\u001b[0m         verbose\u001b[38;5;241m=\u001b[39mdefault_parallel_config[\u001b[38;5;124m\"\u001b[39m\u001b[38;5;124mverbose\u001b[39m\u001b[38;5;124m\"\u001b[39m],\n\u001b[0;32m    353\u001b[0m         temp_folder\u001b[38;5;241m=\u001b[39mdefault_parallel_config[\u001b[38;5;124m\"\u001b[39m\u001b[38;5;124mtemp_folder\u001b[39m\u001b[38;5;124m\"\u001b[39m],\n\u001b[0;32m    354\u001b[0m         max_nbytes\u001b[38;5;241m=\u001b[39mdefault_parallel_config[\u001b[38;5;124m\"\u001b[39m\u001b[38;5;124mmax_nbytes\u001b[39m\u001b[38;5;124m\"\u001b[39m],\n\u001b[0;32m    355\u001b[0m         mmap_mode\u001b[38;5;241m=\u001b[39mdefault_parallel_config[\u001b[38;5;124m\"\u001b[39m\u001b[38;5;124mmmap_mode\u001b[39m\u001b[38;5;124m\"\u001b[39m],\n\u001b[0;32m    356\u001b[0m         prefer\u001b[38;5;241m=\u001b[39mdefault_parallel_config[\u001b[38;5;124m\"\u001b[39m\u001b[38;5;124mprefer\u001b[39m\u001b[38;5;124m\"\u001b[39m],\n\u001b[0;32m    357\u001b[0m         require\u001b[38;5;241m=\u001b[39mdefault_parallel_config[\u001b[38;5;124m\"\u001b[39m\u001b[38;5;124mrequire\u001b[39m\u001b[38;5;124m\"\u001b[39m],\n\u001b[0;32m    358\u001b[0m         inner_max_num_threads\u001b[38;5;241m=\u001b[39m\u001b[38;5;28;01mNone\u001b[39;00m,\n\u001b[1;32m--> 359\u001b[0m         \u001b[38;5;241m*\u001b[39m\u001b[38;5;241m*\u001b[39mbackend_params\n\u001b[0;32m    360\u001b[0m     ):\n\u001b[0;32m    361\u001b[0m         \u001b[38;5;66;03m# Save the parallel info and set the active parallel config\u001b[39;00m\n\u001b[0;32m    362\u001b[0m         \u001b[38;5;28mself\u001b[39m\u001b[38;5;241m.\u001b[39mold_parallel_config \u001b[38;5;241m=\u001b[39m \u001b[38;5;28mgetattr\u001b[39m(\n\u001b[0;32m    363\u001b[0m             _backend, \u001b[38;5;124m\"\u001b[39m\u001b[38;5;124mconfig\u001b[39m\u001b[38;5;124m\"\u001b[39m, default_parallel_config\n\u001b[0;32m    364\u001b[0m         )\n\u001b[0;32m    366\u001b[0m         backend \u001b[38;5;241m=\u001b[39m \u001b[38;5;28mself\u001b[39m\u001b[38;5;241m.\u001b[39m_check_backend(\n\u001b[0;32m    367\u001b[0m             backend, inner_max_num_threads, \u001b[38;5;241m*\u001b[39m\u001b[38;5;241m*\u001b[39mbackend_params\n\u001b[0;32m    368\u001b[0m         )\n",
      "File \u001b[1;32m~\\AppData\\Local\\Programs\\Python\\Python310\\lib\\site-packages\\joblib\\parallel.py:794\u001b[0m, in \u001b[0;36mdispatch_next\u001b[1;34m(self)\u001b[0m\n",
      "File \u001b[1;32m~\\AppData\\Local\\Programs\\Python\\Python310\\lib\\site-packages\\joblib\\parallel.py:861\u001b[0m, in \u001b[0;36mdispatch_one_batch\u001b[1;34m(self, iterator)\u001b[0m\n\u001b[0;32m    854\u001b[0m \u001b[38;5;124;03m\"\"\"Register the outcome of a task.\u001b[39;00m\n\u001b[0;32m    855\u001b[0m \n\u001b[0;32m    856\u001b[0m \u001b[38;5;124;03mThis method can be called only once, future calls will be ignored.\u001b[39;00m\n\u001b[0;32m    857\u001b[0m \u001b[38;5;124;03m\"\"\"\u001b[39;00m\n\u001b[0;32m    858\u001b[0m \u001b[38;5;66;03m# Covers the edge case where the main thread tries to register a\u001b[39;00m\n\u001b[0;32m    859\u001b[0m \u001b[38;5;66;03m# `TimeoutError` while the callback thread tries to register a result\u001b[39;00m\n\u001b[0;32m    860\u001b[0m \u001b[38;5;66;03m# at the same time.\u001b[39;00m\n\u001b[1;32m--> 861\u001b[0m \u001b[38;5;28;01mwith\u001b[39;00m \u001b[38;5;28mself\u001b[39m\u001b[38;5;241m.\u001b[39mparallel\u001b[38;5;241m.\u001b[39m_lock:\n\u001b[0;32m    862\u001b[0m     \u001b[38;5;28;01mif\u001b[39;00m \u001b[38;5;28mself\u001b[39m\u001b[38;5;241m.\u001b[39mstatus \u001b[38;5;129;01mnot\u001b[39;00m \u001b[38;5;129;01min\u001b[39;00m (TASK_PENDING, \u001b[38;5;28;01mNone\u001b[39;00m):\n\u001b[0;32m    863\u001b[0m         \u001b[38;5;28;01mreturn\u001b[39;00m\n",
      "File \u001b[1;32m~\\AppData\\Local\\Programs\\Python\\Python310\\lib\\site-packages\\joblib\\parallel.py:779\u001b[0m, in \u001b[0;36m_dispatch\u001b[1;34m(self, batch)\u001b[0m\n",
      "File \u001b[1;32m~\\AppData\\Local\\Programs\\Python\\Python310\\lib\\site-packages\\joblib\\_parallel_backends.py:531\u001b[0m, in \u001b[0;36mapply_async\u001b[1;34m(self, func, callback)\u001b[0m\n\u001b[0;32m    530\u001b[0m \u001b[38;5;28;01mdef\u001b[39;00m \u001b[38;5;21mterminate\u001b[39m(\u001b[38;5;28mself\u001b[39m):\n\u001b[1;32m--> 531\u001b[0m     \u001b[38;5;124;03m\"\"\"Shutdown the process or thread pool\"\"\"\u001b[39;00m\n\u001b[0;32m    532\u001b[0m     \u001b[38;5;28msuper\u001b[39m(MultiprocessingBackend, \u001b[38;5;28mself\u001b[39m)\u001b[38;5;241m.\u001b[39mterminate()\n\u001b[0;32m    533\u001b[0m     \u001b[38;5;28mself\u001b[39m\u001b[38;5;241m.\u001b[39mreset_batch_stats()\n",
      "File \u001b[1;32m~\\AppData\\Local\\Programs\\Python\\Python310\\lib\\site-packages\\joblib\\externals\\loky\\reusable_executor.py:177\u001b[0m, in \u001b[0;36msubmit\u001b[1;34m(self, fn, *args, **kwargs)\u001b[0m\n\u001b[0;32m    175\u001b[0m \u001b[38;5;28;01mif\u001b[39;00m executor \u001b[38;5;129;01mis\u001b[39;00m \u001b[38;5;28;01mNone\u001b[39;00m:\n\u001b[0;32m    176\u001b[0m     is_reused \u001b[38;5;241m=\u001b[39m \u001b[38;5;28;01mFalse\u001b[39;00m\n\u001b[1;32m--> 177\u001b[0m     mp\u001b[38;5;241m.\u001b[39mutil\u001b[38;5;241m.\u001b[39mdebug(\n\u001b[0;32m    178\u001b[0m         \u001b[38;5;124mf\u001b[39m\u001b[38;5;124m\"\u001b[39m\u001b[38;5;124mCreate a executor with max_workers=\u001b[39m\u001b[38;5;132;01m{\u001b[39;00mmax_workers\u001b[38;5;132;01m}\u001b[39;00m\u001b[38;5;124m.\u001b[39m\u001b[38;5;124m\"\u001b[39m\n\u001b[0;32m    179\u001b[0m     )\n\u001b[0;32m    180\u001b[0m     executor_id \u001b[38;5;241m=\u001b[39m _get_next_executor_id()\n\u001b[0;32m    181\u001b[0m     _executor_kwargs \u001b[38;5;241m=\u001b[39m kwargs\n",
      "File \u001b[1;32m~\\AppData\\Local\\Programs\\Python\\Python310\\lib\\site-packages\\joblib\\externals\\loky\\process_executor.py:1115\u001b[0m, in \u001b[0;36msubmit\u001b[1;34m(self, fn, *args, **kwargs)\u001b[0m\n",
      "\u001b[1;31mTerminatedWorkerError\u001b[0m: A worker process managed by the executor was unexpectedly terminated. This could be caused by a segmentation fault while calling the function or by an excessive memory usage causing the Operating System to kill the worker.\n"
     ]
    }
   ],
   "source": [
    "lr = LinearRegression()\n",
    "\n",
    "exh = EFS(lr, max_features=13, scoring='r2', cv=10, print_progress=True,n_jobs=-1)\n",
    "\n",
    "sel = exh.fit(X_train, y_train)"
   ]
  },
  {
   "cell_type": "code",
   "execution_count": 88,
   "id": "d24567f9",
   "metadata": {},
   "outputs": [
    {
     "ename": "NameError",
     "evalue": "name 'efs1' is not defined",
     "output_type": "error",
     "traceback": [
      "\u001b[1;31m---------------------------------------------------------------------------\u001b[0m",
      "\u001b[1;31mNameError\u001b[0m                                 Traceback (most recent call last)",
      "Input \u001b[1;32mIn [88]\u001b[0m, in \u001b[0;36m<module>\u001b[1;34m\u001b[0m\n\u001b[1;32m----> 1\u001b[0m \u001b[38;5;28mprint\u001b[39m(\u001b[38;5;124m'\u001b[39m\u001b[38;5;124mBest accuracy score: \u001b[39m\u001b[38;5;132;01m%.2f\u001b[39;00m\u001b[38;5;124m'\u001b[39m \u001b[38;5;241m%\u001b[39m \u001b[43mefs1\u001b[49m\u001b[38;5;241m.\u001b[39mbest_score_)\n\u001b[0;32m      2\u001b[0m \u001b[38;5;28mprint\u001b[39m(\u001b[38;5;124m'\u001b[39m\u001b[38;5;124mBest subset (indices):\u001b[39m\u001b[38;5;124m'\u001b[39m, efs1\u001b[38;5;241m.\u001b[39mbest_idx_)\n\u001b[0;32m      3\u001b[0m \u001b[38;5;28mprint\u001b[39m(\u001b[38;5;124m'\u001b[39m\u001b[38;5;124mBest subset (corresponding names):\u001b[39m\u001b[38;5;124m'\u001b[39m, efs1\u001b[38;5;241m.\u001b[39mbest_feature_names_)\n",
      "\u001b[1;31mNameError\u001b[0m: name 'efs1' is not defined"
     ]
    }
   ],
   "source": [
    "print('Best accuracy score: %.2f' % exh1best_score_)\n",
    "print('Best subset (indices):', exh.best_idx_)\n",
    "print('Best subset (corresponding names):', exh.best_feature_names_)"
   ]
  },
  {
   "cell_type": "code",
   "execution_count": 89,
   "id": "a91add30",
   "metadata": {},
   "outputs": [],
   "source": [
    "X_train_sel=sel.transform(X_train)\n",
    "X_test_sel=sel.transform(X_test)"
   ]
  },
  {
   "cell_type": "code",
   "execution_count": 90,
   "id": "65ed1907",
   "metadata": {},
   "outputs": [
    {
     "name": "stdout",
     "output_type": "stream",
     "text": [
      "training 0.27258668236303746\n",
      "testing 0.09773931292601405\n"
     ]
    }
   ],
   "source": [
    "model = LinearRegression()\n",
    "\n",
    "print(\"training\",np.mean(cross_val_score(model, X_train_sel, y_train, cv=5, scoring='r2')))\n",
    "print(\"testing\",np.mean(cross_val_score(model, X_test_sel, y_test, cv=5, scoring='r2')))"
   ]
  },
  {
   "cell_type": "markdown",
   "id": "7c99532a",
   "metadata": {},
   "source": [
    "### Sequential Backward Elimination"
   ]
  },
  {
   "cell_type": "code",
   "execution_count": 111,
   "id": "53dd2353",
   "metadata": {},
   "outputs": [],
   "source": [
    "import pandas as pd\n",
    "from mlxtend.feature_selection import SequentialFeatureSelector as SFS\n",
    "from sklearn.metrics import mean_squared_error"
   ]
  },
  {
   "cell_type": "code",
   "execution_count": 112,
   "id": "8fd37e5c",
   "metadata": {},
   "outputs": [],
   "source": [
    "# load the dataset\n",
    "df = pd.read_csv('https://raw.githubusercontent.com/selva86/datasets/master/BostonHousing.csv')\n",
    "df.head()\n",
    "\n",
    "X=df.iloc[:,:-1]\n",
    "y=df['medv']"
   ]
  },
  {
   "cell_type": "code",
   "execution_count": 113,
   "id": "d23c0140",
   "metadata": {},
   "outputs": [
    {
     "name": "stdout",
     "output_type": "stream",
     "text": [
      "(404, 13)\n",
      "(102, 13)\n"
     ]
    }
   ],
   "source": [
    "#train test split\n",
    "X_train,X_test,y_train,y_test=train_test_split(X,y,test_size=0.2,random_state=1)\n",
    "\n",
    "print(X_train.shape)\n",
    "print(X_test.shape)"
   ]
  },
  {
   "cell_type": "code",
   "execution_count": 114,
   "id": "0b0f1a27",
   "metadata": {},
   "outputs": [],
   "source": [
    "sc=StandardScaler()\n",
    "X_train=sc.fit_transform(X_train)\n",
    "X_test=sc.transform(X_test)"
   ]
  },
  {
   "cell_type": "code",
   "execution_count": 117,
   "id": "0e02a7ff",
   "metadata": {},
   "outputs": [
    {
     "name": "stdout",
     "output_type": "stream",
     "text": [
      "training 0.7025123301096212\n",
      "testing 0.6514899901155402\n"
     ]
    }
   ],
   "source": [
    "#apply model\n",
    "lr=LinearRegression()\n",
    "print(\"training\",np.mean(cross_val_score(model, X_train, y_train, cv=5, scoring='r2')))\n",
    "print(\"testing\",np.mean(cross_val_score(model, X_test, y_test, cv=5, scoring='r2')))"
   ]
  },
  {
   "cell_type": "code",
   "execution_count": 118,
   "id": "d2414e36",
   "metadata": {},
   "outputs": [],
   "source": [
    "sfs1=SFS(lr,k_features='best',forward=True,floating=False,cv=5,scoring='r2')\n",
    "sfs1=sfs1.fit(X_train,y_train)"
   ]
  },
  {
   "cell_type": "code",
   "execution_count": 119,
   "id": "fd06fb8b",
   "metadata": {},
   "outputs": [
    {
     "data": {
      "text/plain": [
       "{1: {'feature_idx': (12,),\n",
       "  'cv_scores': array([0.54729984, 0.49002001, 0.5381464 , 0.56213521, 0.55465176]),\n",
       "  'avg_score': 0.538450646821911,\n",
       "  'feature_names': ('12',)},\n",
       " 2: {'feature_idx': (5, 12),\n",
       "  'cv_scores': array([0.63308563, 0.57798121, 0.58600685, 0.64510909, 0.62411232]),\n",
       "  'avg_score': 0.6132590203002118,\n",
       "  'feature_names': ('5', '12')},\n",
       " 3: {'feature_idx': (5, 10, 12),\n",
       "  'cv_scores': array([0.72158969, 0.6288372 , 0.63341487, 0.65720224, 0.66401567]),\n",
       "  'avg_score': 0.661011934286666,\n",
       "  'feature_names': ('5', '10', '12')},\n",
       " 4: {'feature_idx': (5, 10, 11, 12),\n",
       "  'cv_scores': array([0.72587722, 0.63426043, 0.6558192 , 0.65966573, 0.66129161]),\n",
       "  'avg_score': 0.6673828379740255,\n",
       "  'feature_names': ('5', '10', '11', '12')},\n",
       " 5: {'feature_idx': (5, 7, 10, 11, 12),\n",
       "  'cv_scores': array([0.74407562, 0.64734499, 0.61455489, 0.68050098, 0.67100229]),\n",
       "  'avg_score': 0.6714957524062923,\n",
       "  'feature_names': ('5', '7', '10', '11', '12')},\n",
       " 6: {'feature_idx': (4, 5, 7, 10, 11, 12),\n",
       "  'cv_scores': array([0.75544727, 0.66955211, 0.65345173, 0.65960636, 0.69004309]),\n",
       "  'avg_score': 0.6856201135256589,\n",
       "  'feature_names': ('4', '5', '7', '10', '11', '12')},\n",
       " 7: {'feature_idx': (1, 4, 5, 7, 10, 11, 12),\n",
       "  'cv_scores': array([0.75488434, 0.67980736, 0.66215346, 0.66872012, 0.69093631]),\n",
       "  'avg_score': 0.6913003189940571,\n",
       "  'feature_names': ('1', '4', '5', '7', '10', '11', '12')},\n",
       " 8: {'feature_idx': (0, 1, 4, 5, 7, 10, 11, 12),\n",
       "  'cv_scores': array([0.76782015, 0.68270044, 0.67133169, 0.66055056, 0.69480636]),\n",
       "  'avg_score': 0.6954418395196358,\n",
       "  'feature_names': ('0', '1', '4', '5', '7', '10', '11', '12')},\n",
       " 9: {'feature_idx': (0, 1, 4, 5, 7, 8, 10, 11, 12),\n",
       "  'cv_scores': array([0.77466482, 0.68505855, 0.6835667 , 0.67093128, 0.70459342]),\n",
       "  'avg_score': 0.703762954018262,\n",
       "  'feature_names': ('0', '1', '4', '5', '7', '8', '10', '11', '12')},\n",
       " 10: {'feature_idx': (0, 1, 4, 5, 7, 8, 9, 10, 11, 12),\n",
       "  'cv_scores': array([0.77695939, 0.68847412, 0.70201241, 0.67239069, 0.7103273 ]),\n",
       "  'avg_score': 0.7100327839218561,\n",
       "  'feature_names': ('0', '1', '4', '5', '7', '8', '9', '10', '11', '12')},\n",
       " 11: {'feature_idx': (0, 1, 3, 4, 5, 7, 8, 9, 10, 11, 12),\n",
       "  'cv_scores': array([0.75471089, 0.69596279, 0.70170816, 0.67136562, 0.71679609]),\n",
       "  'avg_score': 0.708108710754324,\n",
       "  'feature_names': ('0', '1', '3', '4', '5', '7', '8', '9', '10', '11', '12')},\n",
       " 12: {'feature_idx': (0, 1, 2, 3, 4, 5, 7, 8, 9, 10, 11, 12),\n",
       "  'cv_scores': array([0.7532856 , 0.69445705, 0.69317506, 0.6714104 , 0.716721  ]),\n",
       "  'avg_score': 0.7058098214969518,\n",
       "  'feature_names': ('0',\n",
       "   '1',\n",
       "   '2',\n",
       "   '3',\n",
       "   '4',\n",
       "   '5',\n",
       "   '7',\n",
       "   '8',\n",
       "   '9',\n",
       "   '10',\n",
       "   '11',\n",
       "   '12')},\n",
       " 13: {'feature_idx': (0, 1, 2, 3, 4, 5, 6, 7, 8, 9, 10, 11, 12),\n",
       "  'cv_scores': array([0.75350272, 0.69202385, 0.68225547, 0.66901198, 0.71576764]),\n",
       "  'avg_score': 0.7025123301096212,\n",
       "  'feature_names': ('0',\n",
       "   '1',\n",
       "   '2',\n",
       "   '3',\n",
       "   '4',\n",
       "   '5',\n",
       "   '6',\n",
       "   '7',\n",
       "   '8',\n",
       "   '9',\n",
       "   '10',\n",
       "   '11',\n",
       "   '12')}}"
      ]
     },
     "execution_count": 119,
     "metadata": {},
     "output_type": "execute_result"
    }
   ],
   "source": [
    "#Via the subsets_ attribute, we can take a look at the selected feature indices at each step:\n",
    "sfs1.subsets_"
   ]
  },
  {
   "cell_type": "code",
   "execution_count": 120,
   "id": "8355bd68",
   "metadata": {},
   "outputs": [
    {
     "name": "stdout",
     "output_type": "stream",
     "text": [
      "Best accuracy score: 0.71\n",
      "Best subset (indices): (0, 1, 4, 5, 7, 8, 9, 10, 11, 12)\n",
      "Best subset (corresponding names): ('0', '1', '4', '5', '7', '8', '9', '10', '11', '12')\n"
     ]
    }
   ],
   "source": [
    "print('Best accuracy score: %.2f' % sfs1.k_score_)\n",
    "print('Best subset (indices):', sfs1.k_feature_idx_)\n",
    "print('Best subset (corresponding names):', sfs1.k_feature_names_)"
   ]
  },
  {
   "cell_type": "code",
   "execution_count": 125,
   "id": "b4f6239b",
   "metadata": {},
   "outputs": [
    {
     "name": "stdout",
     "output_type": "stream",
     "text": [
      "\n",
      "Sequential Forward Selection (k=best):\n",
      "(0, 1, 4, 5, 7, 8, 9, 10, 11, 12)\n",
      "CV Score:\n",
      "0.7100327839218561\n"
     ]
    }
   ],
   "source": [
    "# Sequential Forward Selection\n",
    "sfs = SFS(lr, \n",
    "          k_features='best', \n",
    "          forward=True, \n",
    "          floating=False, \n",
    "          scoring='r2',\n",
    "          cv=5)\n",
    "sfs = sfs.fit(X_train, y_train)\n",
    "\n",
    "print('\\nSequential Forward Selection (k=best):')\n",
    "print(sfs.k_feature_idx_)\n",
    "print('CV Score:')\n",
    "print(sfs.k_score_)\n"
   ]
  },
  {
   "cell_type": "code",
   "execution_count": 127,
   "id": "efff54a5",
   "metadata": {},
   "outputs": [
    {
     "name": "stdout",
     "output_type": "stream",
     "text": [
      "\n",
      "Sequential Backward Selection (k=best):\n",
      "(0, 1, 4, 5, 7, 8, 9, 10, 11, 12)\n",
      "CV Score:\n",
      "0.7100327839218561\n"
     ]
    }
   ],
   "source": [
    "\n",
    "# Sequential Backward Selection\n",
    "sbs = SFS(lr, \n",
    "          k_features='best', \n",
    "          forward=False, \n",
    "          floating=False, \n",
    "          scoring='r2',\n",
    "          cv=5)\n",
    "sbs = sbs.fit(X_train, y_train)\n",
    "\n",
    "print('\\nSequential Backward Selection (k=best):')\n",
    "print(sbs.k_feature_idx_)\n",
    "print('CV Score:')\n",
    "print(sbs.k_score_)\n",
    "\n"
   ]
  },
  {
   "cell_type": "code",
   "execution_count": 129,
   "id": "af7e1f84",
   "metadata": {},
   "outputs": [
    {
     "name": "stdout",
     "output_type": "stream",
     "text": [
      "\n",
      "Sequential Forward Floating Selection (k=best):\n",
      "(0, 1, 4, 5, 7, 8, 9, 10, 11, 12)\n",
      "CV Score:\n",
      "0.7100327839218561\n"
     ]
    }
   ],
   "source": [
    "\n",
    "# Sequential Forward Floating Selection\n",
    "sffs = SFS(lr, \n",
    "           k_features='best', \n",
    "           forward=True, \n",
    "           floating=True, \n",
    "           scoring='r2',\n",
    "           cv=5)\n",
    "sffs = sffs.fit(X_train, y_train)\n",
    "\n",
    "print('\\nSequential Forward Floating Selection (k=best):')\n",
    "print(sffs.k_feature_idx_)\n",
    "print('CV Score:')\n",
    "print(sffs.k_score_)\n"
   ]
  },
  {
   "cell_type": "code",
   "execution_count": 131,
   "id": "b3dcbc53",
   "metadata": {},
   "outputs": [
    {
     "name": "stdout",
     "output_type": "stream",
     "text": [
      "\n",
      "Sequential Backward Floating Selection (k=best):\n",
      "(0, 1, 4, 5, 7, 8, 9, 10, 11, 12)\n",
      "CV Score:\n",
      "0.7100327839218561\n"
     ]
    }
   ],
   "source": [
    "\n",
    "# Sequential Backward Floating Selection\n",
    "sbfs = SFS(lr, \n",
    "           k_features='best', \n",
    "           forward=False, \n",
    "           floating=True, \n",
    "           scoring='r2',\n",
    "           cv=5)\n",
    "sbfs = sbfs.fit(X_train, y_train)\n",
    "\n",
    "print('\\nSequential Backward Floating Selection (k=best):')\n",
    "print(sbfs.k_feature_idx_)\n",
    "print('CV Score:')\n",
    "print(sbfs.k_score_)"
   ]
  },
  {
   "cell_type": "code",
   "execution_count": 133,
   "id": "f2493b7b",
   "metadata": {},
   "outputs": [],
   "source": [
    "def adjust_r2(r2, num_examples, num_features):\n",
    "    coef = (num_examples - 1) / (num_examples - num_features - 1)\n",
    "    return 1 - (1 - r2) * coef"
   ]
  },
  {
   "cell_type": "code",
   "execution_count": 134,
   "id": "55f9a738",
   "metadata": {},
   "outputs": [
    {
     "data": {
      "text/html": [
       "<div>\n",
       "<style scoped>\n",
       "    .dataframe tbody tr th:only-of-type {\n",
       "        vertical-align: middle;\n",
       "    }\n",
       "\n",
       "    .dataframe tbody tr th {\n",
       "        vertical-align: top;\n",
       "    }\n",
       "\n",
       "    .dataframe thead th {\n",
       "        text-align: right;\n",
       "    }\n",
       "</style>\n",
       "<table border=\"1\" class=\"dataframe\">\n",
       "  <thead>\n",
       "    <tr style=\"text-align: right;\">\n",
       "      <th></th>\n",
       "      <th>feature_idx</th>\n",
       "      <th>cv_scores</th>\n",
       "      <th>avg_score</th>\n",
       "      <th>feature_names</th>\n",
       "      <th>ci_bound</th>\n",
       "      <th>std_dev</th>\n",
       "      <th>std_err</th>\n",
       "      <th>observations</th>\n",
       "      <th>num_features</th>\n",
       "      <th>adjusted_r2</th>\n",
       "    </tr>\n",
       "  </thead>\n",
       "  <tbody>\n",
       "    <tr>\n",
       "      <th>1</th>\n",
       "      <td>(12,)</td>\n",
       "      <td>[0.5472998394577442, 0.49002001493399727, 0.53...</td>\n",
       "      <td>0.538451</td>\n",
       "      <td>(12,)</td>\n",
       "      <td>0.032755</td>\n",
       "      <td>0.025485</td>\n",
       "      <td>0.012742</td>\n",
       "      <td>404</td>\n",
       "      <td>1</td>\n",
       "      <td>0.537303</td>\n",
       "    </tr>\n",
       "    <tr>\n",
       "      <th>2</th>\n",
       "      <td>(5, 12)</td>\n",
       "      <td>[0.6330856272904802, 0.5779812120755249, 0.586...</td>\n",
       "      <td>0.613259</td>\n",
       "      <td>(5, 12)</td>\n",
       "      <td>0.034066</td>\n",
       "      <td>0.026505</td>\n",
       "      <td>0.013252</td>\n",
       "      <td>404</td>\n",
       "      <td>2</td>\n",
       "      <td>0.61133</td>\n",
       "    </tr>\n",
       "    <tr>\n",
       "      <th>3</th>\n",
       "      <td>(5, 10, 12)</td>\n",
       "      <td>[0.7215896884753017, 0.6288372046797153, 0.633...</td>\n",
       "      <td>0.661012</td>\n",
       "      <td>(5, 10, 12)</td>\n",
       "      <td>0.04259</td>\n",
       "      <td>0.033136</td>\n",
       "      <td>0.016568</td>\n",
       "      <td>404</td>\n",
       "      <td>3</td>\n",
       "      <td>0.65847</td>\n",
       "    </tr>\n",
       "    <tr>\n",
       "      <th>4</th>\n",
       "      <td>(5, 10, 11, 12)</td>\n",
       "      <td>[0.725877216548624, 0.6342604286872173, 0.6558...</td>\n",
       "      <td>0.667383</td>\n",
       "      <td>(5, 10, 11, 12)</td>\n",
       "      <td>0.039611</td>\n",
       "      <td>0.030819</td>\n",
       "      <td>0.01541</td>\n",
       "      <td>404</td>\n",
       "      <td>4</td>\n",
       "      <td>0.664048</td>\n",
       "    </tr>\n",
       "    <tr>\n",
       "      <th>5</th>\n",
       "      <td>(5, 7, 10, 11, 12)</td>\n",
       "      <td>[0.7440756174774326, 0.6473449858158777, 0.614...</td>\n",
       "      <td>0.671496</td>\n",
       "      <td>(5, 7, 10, 11, 12)</td>\n",
       "      <td>0.055057</td>\n",
       "      <td>0.042836</td>\n",
       "      <td>0.021418</td>\n",
       "      <td>404</td>\n",
       "      <td>5</td>\n",
       "      <td>0.667369</td>\n",
       "    </tr>\n",
       "    <tr>\n",
       "      <th>6</th>\n",
       "      <td>(4, 5, 7, 10, 11, 12)</td>\n",
       "      <td>[0.7554472741494642, 0.6695521143038103, 0.653...</td>\n",
       "      <td>0.68562</td>\n",
       "      <td>(4, 5, 7, 10, 11, 12)</td>\n",
       "      <td>0.047626</td>\n",
       "      <td>0.037054</td>\n",
       "      <td>0.018527</td>\n",
       "      <td>404</td>\n",
       "      <td>6</td>\n",
       "      <td>0.680869</td>\n",
       "    </tr>\n",
       "    <tr>\n",
       "      <th>7</th>\n",
       "      <td>(1, 4, 5, 7, 10, 11, 12)</td>\n",
       "      <td>[0.7548843433907461, 0.6798073590310516, 0.662...</td>\n",
       "      <td>0.6913</td>\n",
       "      <td>(1, 4, 5, 7, 10, 11, 12)</td>\n",
       "      <td>0.042762</td>\n",
       "      <td>0.03327</td>\n",
       "      <td>0.016635</td>\n",
       "      <td>404</td>\n",
       "      <td>7</td>\n",
       "      <td>0.685844</td>\n",
       "    </tr>\n",
       "    <tr>\n",
       "      <th>8</th>\n",
       "      <td>(0, 1, 4, 5, 7, 10, 11, 12)</td>\n",
       "      <td>[0.7678201537729974, 0.6827004362205138, 0.671...</td>\n",
       "      <td>0.695442</td>\n",
       "      <td>(0, 1, 4, 5, 7, 10, 11, 12)</td>\n",
       "      <td>0.048774</td>\n",
       "      <td>0.037948</td>\n",
       "      <td>0.018974</td>\n",
       "      <td>404</td>\n",
       "      <td>8</td>\n",
       "      <td>0.689274</td>\n",
       "    </tr>\n",
       "    <tr>\n",
       "      <th>9</th>\n",
       "      <td>(0, 1, 4, 5, 7, 8, 10, 11, 12)</td>\n",
       "      <td>[0.7746648196407366, 0.6850585456872307, 0.683...</td>\n",
       "      <td>0.703763</td>\n",
       "      <td>(0, 1, 4, 5, 7, 8, 10, 11, 12)</td>\n",
       "      <td>0.04762</td>\n",
       "      <td>0.03705</td>\n",
       "      <td>0.018525</td>\n",
       "      <td>404</td>\n",
       "      <td>9</td>\n",
       "      <td>0.696996</td>\n",
       "    </tr>\n",
       "    <tr>\n",
       "      <th>10</th>\n",
       "      <td>(0, 1, 4, 5, 7, 8, 9, 10, 11, 12)</td>\n",
       "      <td>[0.7769593921905563, 0.6884741223718953, 0.702...</td>\n",
       "      <td>0.710033</td>\n",
       "      <td>(0, 1, 4, 5, 7, 8, 9, 10, 11, 12)</td>\n",
       "      <td>0.046075</td>\n",
       "      <td>0.035848</td>\n",
       "      <td>0.017924</td>\n",
       "      <td>404</td>\n",
       "      <td>10</td>\n",
       "      <td>0.702654</td>\n",
       "    </tr>\n",
       "    <tr>\n",
       "      <th>11</th>\n",
       "      <td>(0, 1, 3, 4, 5, 7, 8, 9, 10, 11, 12)</td>\n",
       "      <td>[0.7547108925568491, 0.6959627893665097, 0.701...</td>\n",
       "      <td>0.708109</td>\n",
       "      <td>(0, 1, 3, 4, 5, 7, 8, 9, 10, 11, 12)</td>\n",
       "      <td>0.035367</td>\n",
       "      <td>0.027516</td>\n",
       "      <td>0.013758</td>\n",
       "      <td>404</td>\n",
       "      <td>11</td>\n",
       "      <td>0.699918</td>\n",
       "    </tr>\n",
       "    <tr>\n",
       "      <th>12</th>\n",
       "      <td>(0, 1, 2, 3, 4, 5, 7, 8, 9, 10, 11, 12)</td>\n",
       "      <td>[0.7532855958710694, 0.6944570477695307, 0.693...</td>\n",
       "      <td>0.70581</td>\n",
       "      <td>(0, 1, 2, 3, 4, 5, 7, 8, 9, 10, 11, 12)</td>\n",
       "      <td>0.035641</td>\n",
       "      <td>0.02773</td>\n",
       "      <td>0.013865</td>\n",
       "      <td>404</td>\n",
       "      <td>12</td>\n",
       "      <td>0.696781</td>\n",
       "    </tr>\n",
       "    <tr>\n",
       "      <th>13</th>\n",
       "      <td>(0, 1, 2, 3, 4, 5, 6, 7, 8, 9, 10, 11, 12)</td>\n",
       "      <td>[0.7535027170817177, 0.6920238509138779, 0.682...</td>\n",
       "      <td>0.702512</td>\n",
       "      <td>(0, 1, 2, 3, 4, 5, 6, 7, 8, 9, 10, 11, 12)</td>\n",
       "      <td>0.038207</td>\n",
       "      <td>0.029727</td>\n",
       "      <td>0.014863</td>\n",
       "      <td>404</td>\n",
       "      <td>13</td>\n",
       "      <td>0.692596</td>\n",
       "    </tr>\n",
       "  </tbody>\n",
       "</table>\n",
       "</div>"
      ],
      "text/plain": [
       "                                   feature_idx  \\\n",
       "1                                        (12,)   \n",
       "2                                      (5, 12)   \n",
       "3                                  (5, 10, 12)   \n",
       "4                              (5, 10, 11, 12)   \n",
       "5                           (5, 7, 10, 11, 12)   \n",
       "6                        (4, 5, 7, 10, 11, 12)   \n",
       "7                     (1, 4, 5, 7, 10, 11, 12)   \n",
       "8                  (0, 1, 4, 5, 7, 10, 11, 12)   \n",
       "9               (0, 1, 4, 5, 7, 8, 10, 11, 12)   \n",
       "10           (0, 1, 4, 5, 7, 8, 9, 10, 11, 12)   \n",
       "11        (0, 1, 3, 4, 5, 7, 8, 9, 10, 11, 12)   \n",
       "12     (0, 1, 2, 3, 4, 5, 7, 8, 9, 10, 11, 12)   \n",
       "13  (0, 1, 2, 3, 4, 5, 6, 7, 8, 9, 10, 11, 12)   \n",
       "\n",
       "                                            cv_scores avg_score  \\\n",
       "1   [0.5472998394577442, 0.49002001493399727, 0.53...  0.538451   \n",
       "2   [0.6330856272904802, 0.5779812120755249, 0.586...  0.613259   \n",
       "3   [0.7215896884753017, 0.6288372046797153, 0.633...  0.661012   \n",
       "4   [0.725877216548624, 0.6342604286872173, 0.6558...  0.667383   \n",
       "5   [0.7440756174774326, 0.6473449858158777, 0.614...  0.671496   \n",
       "6   [0.7554472741494642, 0.6695521143038103, 0.653...   0.68562   \n",
       "7   [0.7548843433907461, 0.6798073590310516, 0.662...    0.6913   \n",
       "8   [0.7678201537729974, 0.6827004362205138, 0.671...  0.695442   \n",
       "9   [0.7746648196407366, 0.6850585456872307, 0.683...  0.703763   \n",
       "10  [0.7769593921905563, 0.6884741223718953, 0.702...  0.710033   \n",
       "11  [0.7547108925568491, 0.6959627893665097, 0.701...  0.708109   \n",
       "12  [0.7532855958710694, 0.6944570477695307, 0.693...   0.70581   \n",
       "13  [0.7535027170817177, 0.6920238509138779, 0.682...  0.702512   \n",
       "\n",
       "                                 feature_names  ci_bound   std_dev   std_err  \\\n",
       "1                                        (12,)  0.032755  0.025485  0.012742   \n",
       "2                                      (5, 12)  0.034066  0.026505  0.013252   \n",
       "3                                  (5, 10, 12)   0.04259  0.033136  0.016568   \n",
       "4                              (5, 10, 11, 12)  0.039611  0.030819   0.01541   \n",
       "5                           (5, 7, 10, 11, 12)  0.055057  0.042836  0.021418   \n",
       "6                        (4, 5, 7, 10, 11, 12)  0.047626  0.037054  0.018527   \n",
       "7                     (1, 4, 5, 7, 10, 11, 12)  0.042762   0.03327  0.016635   \n",
       "8                  (0, 1, 4, 5, 7, 10, 11, 12)  0.048774  0.037948  0.018974   \n",
       "9               (0, 1, 4, 5, 7, 8, 10, 11, 12)   0.04762   0.03705  0.018525   \n",
       "10           (0, 1, 4, 5, 7, 8, 9, 10, 11, 12)  0.046075  0.035848  0.017924   \n",
       "11        (0, 1, 3, 4, 5, 7, 8, 9, 10, 11, 12)  0.035367  0.027516  0.013758   \n",
       "12     (0, 1, 2, 3, 4, 5, 7, 8, 9, 10, 11, 12)  0.035641   0.02773  0.013865   \n",
       "13  (0, 1, 2, 3, 4, 5, 6, 7, 8, 9, 10, 11, 12)  0.038207  0.029727  0.014863   \n",
       "\n",
       "    observations  num_features adjusted_r2  \n",
       "1            404             1    0.537303  \n",
       "2            404             2     0.61133  \n",
       "3            404             3     0.65847  \n",
       "4            404             4    0.664048  \n",
       "5            404             5    0.667369  \n",
       "6            404             6    0.680869  \n",
       "7            404             7    0.685844  \n",
       "8            404             8    0.689274  \n",
       "9            404             9    0.696996  \n",
       "10           404            10    0.702654  \n",
       "11           404            11    0.699918  \n",
       "12           404            12    0.696781  \n",
       "13           404            13    0.692596  "
      ]
     },
     "execution_count": 134,
     "metadata": {},
     "output_type": "execute_result"
    }
   ],
   "source": [
    "metric_df = pd.DataFrame.from_dict(sfs.get_metric_dict()).T\n",
    "\n",
    "metric_df['observations'] = 404\n",
    "metric_df['num_features'] = metric_df['feature_idx'].apply(lambda x:len(x))\n",
    "metric_df['adjusted_r2'] = adjust_r2(metric_df['avg_score'],metric_df['observations'],metric_df['num_features'])\n",
    "\n",
    "metric_df"
   ]
  },
  {
   "cell_type": "code",
   "execution_count": 135,
   "id": "0336d1d0",
   "metadata": {},
   "outputs": [
    {
     "data": {
      "image/png": "[encoded data removed]",
      "text/plain": [
       "<Figure size 432x288 with 1 Axes>"
      ]
     },
     "metadata": {
      "needs_background": "light"
     },
     "output_type": "display_data"
    }
   ],
   "source": [
    "from mlxtend.plotting import plot_sequential_feature_selection as plot_sfs\n",
    "\n",
    "\n",
    "fig1 = plot_sfs(sfs.get_metric_dict(), kind='std_err',)\n",
    "\n",
    "plt.title('Sequential Backward Elimination (w. StdErr)')\n",
    "plt.grid()\n",
    "plt.show()"
   ]
  },
  {
   "cell_type": "code",
   "execution_count": 136,
   "id": "8ead5692",
   "metadata": {},
   "outputs": [
    {
     "name": "stdout",
     "output_type": "stream",
     "text": [
      "training 0.7100327839218561\n",
      "testing 0.7205819296124483\n"
     ]
    }
   ],
   "source": [
    "X_train_sel = sfs.transform(X_train)\n",
    "X_test_sel = sfs.transform(X_test)\n",
    "\n",
    "model = LinearRegression()\n",
    "\n",
    "print(\"training\",np.mean(cross_val_score(model, X_train_sel, y_train, cv=5, scoring='r2')))\n",
    "print(\"testing\",np.mean(cross_val_score(model, X_test_sel, y_test, cv=5, scoring='r2')))"
   ]
  },
  {
   "cell_type": "code",
   "execution_count": 137,
   "id": "f9e89503",
   "metadata": {},
   "outputs": [
    {
     "data": {
      "text/plain": [
       "(404, 10)"
      ]
     },
     "execution_count": 137,
     "metadata": {},
     "output_type": "execute_result"
    }
   ],
   "source": [
    "X_train_sel.shape"
   ]
  },
  {
   "cell_type": "code",
   "execution_count": null,
   "id": "458b4850",
   "metadata": {},
   "outputs": [],
   "source": []
  }
 ],
 "metadata": {
  "kernelspec": {
   "display_name": "Python 3 (ipykernel)",
   "language": "python",
   "name": "python3"
  },
  "language_info": {
   "codemirror_mode": {
    "name": "ipython",
    "version": 3
   },
   "file_extension": ".py",
   "mimetype": "text/x-python",
   "name": "python",
   "nbconvert_exporter": "python",
   "pygments_lexer": "ipython3",
   "version": "3.10.1"
  }
 },
 "nbformat": 4,
 "nbformat_minor": 5
}
