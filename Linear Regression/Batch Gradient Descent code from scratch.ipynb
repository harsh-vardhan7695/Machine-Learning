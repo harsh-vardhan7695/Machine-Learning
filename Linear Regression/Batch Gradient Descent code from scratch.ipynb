{
 "cells": [
  {
   "cell_type": "code",
   "execution_count": 20,
   "id": "f541d125",
   "metadata": {},
   "outputs": [],
   "source": [
    "from sklearn.datasets import load_diabetes\n",
    "import numpy as np\n",
    "import pandas as pd\n",
    "\n",
    "from sklearn.linear_model import LinearRegression\n",
    "from sklearn.metrics import r2_score\n",
    "from sklearn.model_selection import train_test_split"
   ]
  },
  {
   "cell_type": "code",
   "execution_count": 21,
   "id": "c7988e8c",
   "metadata": {},
   "outputs": [],
   "source": [
    "X,y=load_diabetes(return_X_y=True)"
   ]
  },
  {
   "cell_type": "code",
   "execution_count": 22,
   "id": "d8ca79e3",
   "metadata": {},
   "outputs": [
    {
     "name": "stdout",
     "output_type": "stream",
     "text": [
      "(442, 10)\n",
      "(442,)\n"
     ]
    }
   ],
   "source": [
    "print(X.shape)\n",
    "print(y.shape)"
   ]
  },
  {
   "cell_type": "code",
   "execution_count": 23,
   "id": "21a36be9",
   "metadata": {},
   "outputs": [],
   "source": [
    "X_train,X_test,y_train,y_test=train_test_split(X,y,test_size=.2,random_state=2)"
   ]
  },
  {
   "cell_type": "code",
   "execution_count": 24,
   "id": "e4af4954",
   "metadata": {},
   "outputs": [
    {
     "name": "stdout",
     "output_type": "stream",
     "text": [
      "[  -9.16088483 -205.46225988  516.68462383  340.62734108 -895.54360867\n",
      "  561.21453306  153.88478595  126.73431596  861.12139955   52.41982836]\n",
      "151.88334520854633\n"
     ]
    }
   ],
   "source": [
    "lr=LinearRegression()\n",
    "lr.fit(X_train,y_train)\n",
    "print(lr.coef_)\n",
    "print(lr.intercept_)"
   ]
  },
  {
   "cell_type": "code",
   "execution_count": 27,
   "id": "6287b48c",
   "metadata": {},
   "outputs": [
    {
     "data": {
      "text/plain": [
       "0.4399387660024645"
      ]
     },
     "execution_count": 27,
     "metadata": {},
     "output_type": "execute_result"
    }
   ],
   "source": [
    "y_pred = lr.predict(X_test)\n",
    "r2_score(y_test,y_pred)"
   ]
  },
  {
   "cell_type": "code",
   "execution_count": 28,
   "id": "c089c6ca",
   "metadata": {},
   "outputs": [
    {
     "data": {
      "text/plain": [
       "(353, 10)"
      ]
     },
     "execution_count": 28,
     "metadata": {},
     "output_type": "execute_result"
    }
   ],
   "source": [
    "X_train.shape"
   ]
  },
  {
   "cell_type": "code",
   "execution_count": 42,
   "id": "0985e74e",
   "metadata": {},
   "outputs": [],
   "source": [
    "class GDRegressor:\n",
    "    def __init__(self,learning_rate=0.1,epochs=100):\n",
    "        self.lr=learning_rate\n",
    "        self.epochs=epochs\n",
    "        self.coef_=None\n",
    "        self.intercept_=None\n",
    "\n",
    "    def fit(self,X_train,y_train):\n",
    "        # initalize your coefs\n",
    "        self.intercept_ = 0\n",
    "        self.coef_ = np.ones(X_train.shape[1])\n",
    "        \n",
    "        for i in range(self.epochs):\n",
    "            # update all the coef and the intercept\n",
    "            y_hat = np.dot(X_train,self.coef_) + self.intercept_\n",
    "            #print(\"Shape of y_hat\",y_hat.shape)\n",
    "            intercept_der = -2 * np.mean(y_train - y_hat)\n",
    "            self.intercept_ = self.intercept_ - (self.lr * intercept_der)\n",
    "            \n",
    "            coef_der = -2 * np.dot((y_train - y_hat),X_train)/X_train.shape[0]\n",
    "            self.coef_ = self.coef_ - (self.lr * coef_der)\n",
    "            \n",
    "        print(self.intercept_,self.coef_)   \n",
    "        \n",
    "    def predict(self,X_test):\n",
    "        return np.dot(X_test,self.coef_)+self.intercept_"
   ]
  },
  {
   "cell_type": "code",
   "execution_count": 51,
   "id": "8e5b1c1c",
   "metadata": {},
   "outputs": [],
   "source": [
    "gdr=GDRegressor(epochs=1000,learning_rate=0.3)"
   ]
  },
  {
   "cell_type": "code",
   "execution_count": 52,
   "id": "02a9438e",
   "metadata": {},
   "outputs": [
    {
     "name": "stdout",
     "output_type": "stream",
     "text": [
      "152.08824992084865 [  36.58748473 -123.36486643  431.68184336  293.7869975   -13.96873674\n",
      "  -78.08861402 -189.37914793  118.64643772  389.66634229  119.57423586]\n"
     ]
    }
   ],
   "source": [
    "gdr.fit(X_train,y_train)"
   ]
  },
  {
   "cell_type": "code",
   "execution_count": 53,
   "id": "1e886866",
   "metadata": {},
   "outputs": [],
   "source": [
    "y_pred=gdr.predict(X_test)"
   ]
  },
  {
   "cell_type": "code",
   "execution_count": 54,
   "id": "0a32a5b2",
   "metadata": {},
   "outputs": [
    {
     "data": {
      "text/plain": [
       "0.45122740281639073"
      ]
     },
     "execution_count": 54,
     "metadata": {},
     "output_type": "execute_result"
    }
   ],
   "source": [
    "r2_score(y_test,y_pred)"
   ]
  },
  {
   "cell_type": "code",
   "execution_count": null,
   "id": "8d0c553b",
   "metadata": {},
   "outputs": [],
   "source": []
  }
 ],
 "metadata": {
  "kernelspec": {
   "display_name": "Python 3 (ipykernel)",
   "language": "python",
   "name": "python3"
  },
  "language_info": {
   "codemirror_mode": {
    "name": "ipython",
    "version": 3
   },
   "file_extension": ".py",
   "mimetype": "text/x-python",
   "name": "python",
   "nbconvert_exporter": "python",
   "pygments_lexer": "ipython3",
   "version": "3.10.1"
  }
 },
 "nbformat": 4,
 "nbformat_minor": 5
}
