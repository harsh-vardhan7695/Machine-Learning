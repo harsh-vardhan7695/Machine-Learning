{
 "cells": [
  {
   "cell_type": "code",
   "execution_count": 99,
   "id": "08b90907",
   "metadata": {},
   "outputs": [],
   "source": [
    "import numpy as np\n",
    "import pandas as pd\n",
    "import matplotlib.pyplot as plt\n",
    "\n",
    "from sklearn.datasets import make_regression"
   ]
  },
  {
   "cell_type": "code",
   "execution_count": 111,
   "id": "900b860d",
   "metadata": {},
   "outputs": [],
   "source": [
    "X,y=make_regression(n_samples=4,n_features=1,n_informative=1, n_targets=1,noise=80,random_state=13)"
   ]
  },
  {
   "cell_type": "code",
   "execution_count": 127,
   "id": "a5ccf767",
   "metadata": {},
   "outputs": [
    {
     "data": {
      "text/plain": [
       "<matplotlib.collections.PathCollection at 0x21dc5db7370>"
      ]
     },
     "execution_count": 127,
     "metadata": {},
     "output_type": "execute_result"
    },
    {
     "data": {
      "image/png": "[encoded data removed]",
      "text/plain": [
       "<Figure size 432x288 with 1 Axes>"
      ]
     },
     "metadata": {
      "needs_background": "light"
     },
     "output_type": "display_data"
    }
   ],
   "source": [
    "plt.scatter(X,y)"
   ]
  },
  {
   "cell_type": "code",
   "execution_count": 104,
   "id": "3e8eb236",
   "metadata": {},
   "outputs": [],
   "source": [
    "from sklearn.model_selection import train_test_split\n",
    "X_train,X_test,y_train,y_test=train_test_split(X,y,test_size=0.2,random_state=2)"
   ]
  },
  {
   "cell_type": "code",
   "execution_count": 128,
   "id": "a8b42682",
   "metadata": {},
   "outputs": [],
   "source": [
    "from sklearn.linear_model import LinearRegression"
   ]
  },
  {
   "cell_type": "code",
   "execution_count": 129,
   "id": "c2c7e662",
   "metadata": {},
   "outputs": [],
   "source": [
    "lr=LinearRegression()"
   ]
  },
  {
   "cell_type": "code",
   "execution_count": 130,
   "id": "70f13fd5",
   "metadata": {},
   "outputs": [
    {
     "name": "stdout",
     "output_type": "stream",
     "text": [
      "slope= [78.35063668]\n",
      "Intercept= 26.15963284313262\n"
     ]
    }
   ],
   "source": [
    "#lets apply ols\n",
    "lr.fit(X,y)\n",
    "print('slope=',lr.coef_)\n",
    "print(\"Intercept=\",lr.intercept_) "
   ]
  },
  {
   "cell_type": "code",
   "execution_count": 108,
   "id": "83daebb2",
   "metadata": {},
   "outputs": [
    {
     "data": {
      "text/plain": [
       "0.6345158782661012"
      ]
     },
     "execution_count": 108,
     "metadata": {},
     "output_type": "execute_result"
    }
   ],
   "source": [
    "y_pred=lr.predict(X_test)\n",
    "from sklearn.metrics import r2_score\n",
    "r2_score(y_test,y_pred)"
   ]
  },
  {
   "cell_type": "code",
   "execution_count": 131,
   "id": "7c944013",
   "metadata": {},
   "outputs": [
    {
     "data": {
      "text/plain": [
       "[<matplotlib.lines.Line2D at 0x21dc5cd1180>]"
      ]
     },
     "execution_count": 131,
     "metadata": {},
     "output_type": "execute_result"
    },
    {
     "data": {
      "image/png": "[encoded data removed]",
      "text/plain": [
       "<Figure size 432x288 with 1 Axes>"
      ]
     },
     "metadata": {
      "needs_background": "light"
     },
     "output_type": "display_data"
    }
   ],
   "source": [
    "plt.scatter(X,y)\n",
    "plt.plot(X,lr.predict(X),color='red') #this will draw a regression line"
   ]
  },
  {
   "cell_type": "code",
   "execution_count": 119,
   "id": "e4867e64",
   "metadata": {},
   "outputs": [],
   "source": [
    "#Let apply GradientDescent assuming slope to be constant m=28.12597332\n",
    "#and lets assume our starting value of intercept b =100\n",
    "y_pred=((78.35*X)+0).reshape(4)"
   ]
  },
  {
   "cell_type": "code",
   "execution_count": 120,
   "id": "13b3961a",
   "metadata": {},
   "outputs": [
    {
     "ename": "AttributeError",
     "evalue": "'float' object has no attribute 'predict'",
     "output_type": "error",
     "traceback": [
      "\u001b[1;31m---------------------------------------------------------------------------\u001b[0m",
      "\u001b[1;31mAttributeError\u001b[0m                            Traceback (most recent call last)",
      "Input \u001b[1;32mIn [120]\u001b[0m, in \u001b[0;36m<module>\u001b[1;34m\u001b[0m\n\u001b[0;32m      1\u001b[0m plt\u001b[38;5;241m.\u001b[39mscatter(X,y)\n\u001b[1;32m----> 2\u001b[0m plt\u001b[38;5;241m.\u001b[39mplot(X,\u001b[43mlr\u001b[49m\u001b[38;5;241;43m.\u001b[39;49m\u001b[43mpredict\u001b[49m(X),color\u001b[38;5;241m=\u001b[39m\u001b[38;5;124m'\u001b[39m\u001b[38;5;124mred\u001b[39m\u001b[38;5;124m'\u001b[39m,label\u001b[38;5;241m=\u001b[39m\u001b[38;5;124m'\u001b[39m\u001b[38;5;124mOLS\u001b[39m\u001b[38;5;124m'\u001b[39m)\n\u001b[0;32m      3\u001b[0m plt\u001b[38;5;241m.\u001b[39mplot(X,y_pred,color\u001b[38;5;241m=\u001b[39m\u001b[38;5;124m'\u001b[39m\u001b[38;5;124mblack\u001b[39m\u001b[38;5;124m'\u001b[39m,label\u001b[38;5;241m=\u001b[39m\u001b[38;5;124m'\u001b[39m\u001b[38;5;124mb=0\u001b[39m\u001b[38;5;124m'\u001b[39m)\n\u001b[0;32m      4\u001b[0m plt\u001b[38;5;241m.\u001b[39mlegend()\n",
      "\u001b[1;31mAttributeError\u001b[0m: 'float' object has no attribute 'predict'"
     ]
    },
    {
     "data": {
      "image/png": "[encoded data removed]",
      "text/plain": [
       "<Figure size 432x288 with 1 Axes>"
      ]
     },
     "metadata": {
      "needs_background": "light"
     },
     "output_type": "display_data"
    }
   ],
   "source": [
    "plt.scatter(X,y)\n",
    "plt.plot(X,lr.predict(X),color='red',label='OLS')\n",
    "plt.plot(X,y_pred,color='black',label='b=0')\n",
    "plt.legend()\n",
    "plt.show()"
   ]
  },
  {
   "cell_type": "code",
   "execution_count": 79,
   "id": "4bfaa946",
   "metadata": {},
   "outputs": [
    {
     "data": {
      "text/plain": [
       "2462.4172473751187"
      ]
     },
     "execution_count": 79,
     "metadata": {},
     "output_type": "execute_result"
    }
   ],
   "source": [
    "m=28.125\n",
    "b=10\n",
    "loss_slope=-2*np.sum(y-m*X.ravel()-b)\n",
    "loss_slope"
   ]
  },
  {
   "cell_type": "code",
   "execution_count": 80,
   "id": "df818ffc",
   "metadata": {},
   "outputs": [
    {
     "data": {
      "text/plain": [
       "24.624172473751187"
      ]
     },
     "execution_count": 80,
     "metadata": {},
     "output_type": "execute_result"
    }
   ],
   "source": [
    "lr=0.01\n",
    "step_size=loss_slope*lr\n",
    "step_size"
   ]
  },
  {
   "cell_type": "code",
   "execution_count": 81,
   "id": "d5186530",
   "metadata": {},
   "outputs": [
    {
     "data": {
      "text/plain": [
       "75.37582752624881"
      ]
     },
     "execution_count": 81,
     "metadata": {},
     "output_type": "execute_result"
    }
   ],
   "source": [
    "b=100-step_size\n",
    "b\n",
    "#first iteration now b is"
   ]
  },
  {
   "cell_type": "code",
   "execution_count": 132,
   "id": "1dd005e1",
   "metadata": {},
   "outputs": [
    {
     "data": {
      "text/plain": [
       "[<matplotlib.lines.Line2D at 0x21dc644f9a0>]"
      ]
     },
     "execution_count": 132,
     "metadata": {},
     "output_type": "execute_result"
    },
    {
     "data": {
      "image/png": "[encoded data removed]",
      "text/plain": [
       "<Figure size 432x288 with 1 Axes>"
      ]
     },
     "metadata": {
      "needs_background": "light"
     },
     "output_type": "display_data"
    }
   ],
   "source": [
    "b=-100\n",
    "m=78.35\n",
    "lr=0.01\n",
    "epochs=10\n",
    "\n",
    "for i in range(epochs):\n",
    "    loss_slope=-2*np.sum(y-m*X.ravel()-b)\n",
    "    step_size=lr*loss_slope\n",
    "    b=b-step_size\n",
    "    y_pred=(m*X+b)\n",
    "    \n",
    "    plt.plot(X,y_pred)\n",
    "plt.plot(X,y)"
   ]
  },
  {
   "cell_type": "code",
   "execution_count": null,
   "id": "7d21594a",
   "metadata": {},
   "outputs": [],
   "source": []
  },
  {
   "cell_type": "code",
   "execution_count": 133,
   "id": "43adb6d4",
   "metadata": {},
   "outputs": [],
   "source": [
    "import numpy as np\n",
    "import pandas as pd\n",
    "import matplotlib.pyplot as plt\n",
    "\n",
    "from sklearn.datasets import make_regression"
   ]
  },
  {
   "cell_type": "code",
   "execution_count": 161,
   "id": "5b599fbb",
   "metadata": {},
   "outputs": [],
   "source": [
    "X,y=make_regression(n_samples=100,n_features=1,n_informative=1, n_targets=1,noise=20)"
   ]
  },
  {
   "cell_type": "code",
   "execution_count": 162,
   "id": "26afd3e7",
   "metadata": {},
   "outputs": [
    {
     "data": {
      "text/plain": [
       "<matplotlib.collections.PathCollection at 0x21dc75d0df0>"
      ]
     },
     "execution_count": 162,
     "metadata": {},
     "output_type": "execute_result"
    },
    {
     "data": {
      "image/png": "[encoded data removed]",
      "text/plain": [
       "<Figure size 432x288 with 1 Axes>"
      ]
     },
     "metadata": {
      "needs_background": "light"
     },
     "output_type": "display_data"
    }
   ],
   "source": [
    "plt.scatter(X,y)"
   ]
  },
  {
   "cell_type": "code",
   "execution_count": 163,
   "id": "179682af",
   "metadata": {},
   "outputs": [],
   "source": [
    "from sklearn.model_selection import train_test_split\n",
    "from sklearn.linear_model import LinearRegression"
   ]
  },
  {
   "cell_type": "code",
   "execution_count": 164,
   "id": "337341c8",
   "metadata": {
    "scrolled": true
   },
   "outputs": [
    {
     "name": "stdout",
     "output_type": "stream",
     "text": [
      "Slope= [23.6703473]\n",
      "Intercept= -2.6036866348154977\n"
     ]
    }
   ],
   "source": [
    "lr=LinearRegression()\n",
    "lr.fit(X,y)\n",
    "print(\"Slope=\",lr.coef_)\n",
    "print(\"Intercept=\",lr.intercept_)"
   ]
  },
  {
   "cell_type": "code",
   "execution_count": 165,
   "id": "68d1f9cb",
   "metadata": {},
   "outputs": [],
   "source": [
    "m=23.67"
   ]
  },
  {
   "cell_type": "code",
   "execution_count": 145,
   "id": "3a76f38c",
   "metadata": {},
   "outputs": [],
   "source": [
    "X_train,X_test,y_train,y_test=train_test_split(X,y)"
   ]
  },
  {
   "cell_type": "code",
   "execution_count": 184,
   "id": "11853301",
   "metadata": {},
   "outputs": [],
   "source": [
    "class GDRegreesor:\n",
    "    \n",
    "    def __init__(self,learning_rate,epochs):\n",
    "        self.lr=learning_rate\n",
    "        self.epochs=epochs\n",
    "        self.m=23.67\n",
    "        self.b=-120\n",
    "        \n",
    "    def fit(self,X,y):\n",
    "        for i in range(self.epochs):\n",
    "            loss_slope=-2*np.sum(y-self.m*X.ravel()-self.b)\n",
    "            step_size=self.lr*loss_slope\n",
    "            self.b=self.b-step_size\n",
    "            print(loss_slope,self.b)\n",
    "        print(self.b)"
   ]
  },
  {
   "cell_type": "code",
   "execution_count": 187,
   "id": "2d2cd781",
   "metadata": {},
   "outputs": [],
   "source": [
    "gd=GDRegreesor(0.001,10)"
   ]
  },
  {
   "cell_type": "code",
   "execution_count": 188,
   "id": "93b52387",
   "metadata": {},
   "outputs": [
    {
     "name": "stdout",
     "output_type": "stream",
     "text": [
      "-23479.255486977916 -96.52074451302208\n",
      "-18783.404389582338 -77.73734012343974\n",
      "-15026.723511665869 -62.710616611773865\n",
      "-12021.378809332691 -50.68923780244117\n",
      "-9617.103047466155 -41.07213475497501\n",
      "-7693.6824379729205 -33.378452317002086\n",
      "-6154.945950378338 -27.22350636662375\n",
      "-4923.956760302669 -22.29954960632108\n",
      "-3939.165408242136 -18.360384198078943\n",
      "-3151.3323265937083 -15.209051871485235\n",
      "-15.209051871485235\n"
     ]
    }
   ],
   "source": [
    "gd.fit(X,y)"
   ]
  },
  {
   "cell_type": "code",
   "execution_count": 189,
   "id": "2e36a67c",
   "metadata": {},
   "outputs": [
    {
     "data": {
      "text/plain": [
       "<matplotlib.collections.PathCollection at 0x21dc76fa140>"
      ]
     },
     "execution_count": 189,
     "metadata": {},
     "output_type": "execute_result"
    },
    {
     "data": {
      "image/png": "[encoded data removed]",
      "text/plain": [
       "<Figure size 432x288 with 1 Axes>"
      ]
     },
     "metadata": {
      "needs_background": "light"
     },
     "output_type": "display_data"
    }
   ],
   "source": [
    "import numpy as np\n",
    "import pandas as pd\n",
    "import matplotlib.pyplot as plt\n",
    "\n",
    "from sklearn.datasets import make_regression\n",
    "\n",
    "X,y=make_regression(n_samples=100,n_features=1,n_informative=1, n_targets=1,noise=20,random_state=13)\n",
    "\n",
    "plt.scatter(X,y)"
   ]
  },
  {
   "cell_type": "code",
   "execution_count": 207,
   "id": "4e0adbcb",
   "metadata": {},
   "outputs": [],
   "source": [
    "from sklearn.model_selection import cross_val_score\n",
    "from sklearn.model_selection import train_test_split"
   ]
  },
  {
   "cell_type": "code",
   "execution_count": 208,
   "id": "5c0df94c",
   "metadata": {},
   "outputs": [],
   "source": [
    "X_train,X_test,y_train,y_test=train_test_split(X,y,test_size=0.2,random_state=2)"
   ]
  },
  {
   "cell_type": "code",
   "execution_count": 209,
   "id": "7ba9d198",
   "metadata": {},
   "outputs": [],
   "source": [
    "lr=LinearRegression()"
   ]
  },
  {
   "cell_type": "code",
   "execution_count": 210,
   "id": "f9bbc8d1",
   "metadata": {
    "scrolled": true
   },
   "outputs": [
    {
     "name": "stdout",
     "output_type": "stream",
     "text": [
      "Slope= [28.12597332]\n",
      "Inercept= -2.2710144261783825\n"
     ]
    }
   ],
   "source": [
    "lr.fit(X_train,y_train)\n",
    "print(\"Slope=\",lr.coef_)\n",
    "print(\"Inercept=\",lr.intercept_)\n"
   ]
  },
  {
   "cell_type": "code",
   "execution_count": 213,
   "id": "e4360cf2",
   "metadata": {},
   "outputs": [
    {
     "data": {
      "text/plain": [
       "0.6345158782661012"
      ]
     },
     "execution_count": 213,
     "metadata": {},
     "output_type": "execute_result"
    }
   ],
   "source": [
    "y_pred=lr.predict(X_test)\n",
    "from sklearn.metrics import r2_score\n",
    "r2=r2_score(y_test,y_pred)\n",
    "r2"
   ]
  },
  {
   "cell_type": "code",
   "execution_count": 216,
   "id": "f1ccfa76",
   "metadata": {},
   "outputs": [],
   "source": [
    "class GDRegreesor:\n",
    "    \n",
    "    def __init__(self,learning_rate,epochs):\n",
    "        self.lr=learning_rate\n",
    "        self.epochs=epochs\n",
    "        self.m=100\n",
    "        self.b=-120\n",
    "        \n",
    "    def fit(self,X,y):\n",
    "        for i in range(self.epochs):\n",
    "            loss_slope_b=-2*np.sum(y-self.m*X.ravel()-self.b)\n",
    "            loss_slope_m=-2*np.sum((y-self.m*X.ravel()-self.b)*X.ravel())\n",
    "            \n",
    "            self.b=self.b-(self.lr*loss_slope_b)\n",
    "            self.m=self.m-(self.lr*loss_slope_m)\n",
    "            #print(loss_slope,self.b)\n",
    "        print(self.b,self.m)\n",
    "        \n",
    "    def predict(self,X):\n",
    "        return self.m*X+self.b"
   ]
  },
  {
   "cell_type": "code",
   "execution_count": 220,
   "id": "93466006",
   "metadata": {},
   "outputs": [],
   "source": [
    "gd=GDRegreesor(0.001,40)"
   ]
  },
  {
   "cell_type": "code",
   "execution_count": 221,
   "id": "f0bc3119",
   "metadata": {},
   "outputs": [
    {
     "name": "stdout",
     "output_type": "stream",
     "text": [
      "-2.4226862718420876 28.28462689117196\n"
     ]
    }
   ],
   "source": [
    "gd.fit(X_train,y_train)"
   ]
  },
  {
   "cell_type": "code",
   "execution_count": 222,
   "id": "40dd5893",
   "metadata": {},
   "outputs": [
    {
     "data": {
      "text/plain": [
       "0.6338531280122912"
      ]
     },
     "execution_count": 222,
     "metadata": {},
     "output_type": "execute_result"
    }
   ],
   "source": [
    "y_pred=gd.predict(X_test)\n",
    "from sklearn.metrics import r2_score\n",
    "r2=r2_score(y_test,y_pred)\n",
    "r2"
   ]
  },
  {
   "cell_type": "code",
   "execution_count": null,
   "id": "eea70727",
   "metadata": {},
   "outputs": [],
   "source": []
  }
 ],
 "metadata": {
  "kernelspec": {
   "display_name": "Python 3 (ipykernel)",
   "language": "python",
   "name": "python3"
  },
  "language_info": {
   "codemirror_mode": {
    "name": "ipython",
    "version": 3
   },
   "file_extension": ".py",
   "mimetype": "text/x-python",
   "name": "python",
   "nbconvert_exporter": "python",
   "pygments_lexer": "ipython3",
   "version": "3.10.1"
  }
 },
 "nbformat": 4,
 "nbformat_minor": 5
}
